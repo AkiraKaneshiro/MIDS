{
 "metadata": {
  "name": "xkcd1313-part2"
 },
 "nbformat": 3,
 "nbformat_minor": 0,
 "worksheets": [
  {
   "cells": [
    {
     "cell_type": "markdown",
     "metadata": {},
     "source": [
      "xkcd 1313: Regex Golf (Part 2: Infinite Problems)\n",
      "====\n",
      "\n",
      "<p style=\"text-align: right\"><i>Peter Norvig<br>with Stefan Pochmann<br>February 2014</i></p>\n",
      "\n",
      "\n",
      "\n",
      "<a href=\"http://xkcd.com/1313\">![](http://imgs.xkcd.com/comics/regex_golf.png)</a>\n",
      "\n",
      "This Again?\n",
      "----\n",
      "\n",
      "Last month I demonstrated [a simple Regex Golf program](http://nbviewer.ipython.org/url/norvig.com/ipython/xkcd1313.ipynb?create=1). I thought that was the end of the topic, but [Stefan Pochmann](http://www.stefan-pochmann.info/spocc/) sent me a series of emails suggesting some impressive improvements. ([Davide Canton](https://plus.sandbox.google.com/108324296451294887432/posts) and [Thomas Breuel](https://plus.google.com/118190679520611168174/posts) also had good suggestions.) So this post is an exploration of some of Stefan's new ideas, and some of my own. I'll try to show how to think about solving a problem, and how to use exploratory programming to test out ideas.\n",
      "\n",
      "To review, here's the program from [part 1](http://nbviewer.ipython.org/url/norvig.com/ipython/xkcd1313.ipynb?create=1) (with minor modifications):"
     ]
    },
    {
     "cell_type": "code",
     "collapsed": false,
     "input": [
      "import re\n",
      "from __future__ import division\n",
      "from __builtin__ import any, all, sum # (because ipython imports the numpy versions)\n",
      "\n",
      "def verify(regex, winners, losers):\n",
      "    \"Return true iff the regex matches all winners but no losers.\"\n",
      "    missed_winners = {W for W in winners if not re.search(regex, W)}\n",
      "    matched_losers = {L for L in losers if re.search(regex, L)}\n",
      "    if missed_winners:\n",
      "        print \"Error: should match but did not:\", ', '.join(missed_winners)\n",
      "    if matched_losers:\n",
      "        print \"Error: should not match but did:\", ', '.join(matched_losers)\n",
      "    return not (missed_winners or matched_losers)\n",
      "\n",
      "def findregex(winners, losers):\n",
      "    \"Find a regex that matches all winners but no losers (sets of strings).\"\n",
      "    # Make a pool of regex components, then pick from them to cover winners.\n",
      "    # On each iteration, add the 'best' component to 'solution',\n",
      "    # remove winners covered by best, and keep in 'pool' only components\n",
      "    # that still match some winner.\n",
      "    pool = regex_components(winners, losers)\n",
      "    solution = []\n",
      "    def score(r): return 4 * len(matches(r, winners)) - len(r)\n",
      "    while winners:\n",
      "        best = max(pool, key=score)\n",
      "        solution.append(best)\n",
      "        winners = winners - matches(best, winners)\n",
      "        pool = {r for r in pool if matches(r, winners)}\n",
      "    return OR(solution)\n",
      "\n",
      "def matches(regex, strings):\n",
      "    \"Return a set of all the strings that are matched by regex.\"\n",
      "    return {s for s in strings if re.search(regex, s)}\n",
      "\n",
      "OR  = '|'.join # Join a sequence of strings with '|' between them\n",
      "\n",
      "def regex_components(winners, losers):\n",
      "    \"Return components that match at least one winner, but no loser.\"\n",
      "    wholes = {'^'+winner+'$' for winner in winners}\n",
      "    parts = {d for w in wholes for s in subparts(w) for d in dotify(s)}\n",
      "    return wholes | {p for p in parts if not matches(p, losers)}\n",
      "\n",
      "def subparts(word):\n",
      "    \"Return a set of subparts of word, consecutive characters up to length 4.\"\n",
      "    return set(word[i:i+n] for i in range(len(word)) for n in (1, 2, 3, 4)) \n",
      "\n",
      "def dotify(part):\n",
      "    \"Return all ways to replace a subset of chars in part with '.'.\"\n",
      "    if part == '':\n",
      "        return {''}  \n",
      "    else:\n",
      "        return {c+rest for rest in dotify(part[1:]) \n",
      "                for c in replacements(part[0])}\n",
      "       \n",
      "def replacements(char):\n",
      "    \"Return replacement characters for char (char + '.' unless char is special).\"\n",
      "    if (char == '^' or char == '$'):\n",
      "        return char\n",
      "    else:\n",
      "        return char + '.'\n",
      "    \n",
      "def words(text): \n",
      "    \"Return a set of all words in the text, lowercased.\"\n",
      "    return frozenset(text.lower().split())\n",
      "\n",
      "def phrases(text, sep='/'): \n",
      "    \"Return a set of all 'sep'-separated phrases in text, uppercased.\"\n",
      "    return frozenset(line.strip() for line in text.upper().split(sep))"
     ],
     "language": "python",
     "metadata": {},
     "outputs": [],
     "prompt_number": 1
    },
    {
     "cell_type": "markdown",
     "metadata": {},
     "source": [
      "Here are some \"arbitrary lists\" (see panel two of the comic) which we will be using to test out the code. (Note that I made these frozen sets (immutable objects) this time, because they are constants that shouldn't be changed.)"
     ]
    },
    {
     "cell_type": "code",
     "collapsed": false,
     "input": [
      "winners = words('''washington adams jefferson jefferson madison madison monroe \n",
      "    monroe adams jackson jackson van-buren harrison polk taylor pierce buchanan \n",
      "    lincoln lincoln grant grant hayes garfield cleveland harrison cleveland mckinley\n",
      "    mckinley roosevelt taft wilson wilson harding coolidge hoover roosevelt \n",
      "    roosevelt roosevelt roosevelt truman eisenhower eisenhower kennedy johnson nixon \n",
      "    nixon carter reagan reagan bush clinton clinton bush bush obama obama''')\n",
      "\n",
      "losers = words('''clinton jefferson adams pinckney pinckney clinton king adams \n",
      "    jackson adams clay van-buren van-buren clay cass scott fremont breckinridge \n",
      "    mcclellan seymour greeley tilden hancock blaine cleveland harrison bryan bryan \n",
      "    parker bryan roosevelt hughes cox davis smith hoover landon wilkie dewey dewey \n",
      "    stevenson stevenson nixon goldwater humphrey mcgovern ford carter mondale \n",
      "    dukakis bush dole gore kerry mccain romney''') - winners\n",
      "\n",
      "boys = words('jacob mason ethan noah william liam jayden michael alexander aiden')\n",
      "girls = words('sophia emma isabella olivia ava emily abigail mia madison elizabeth')\n",
      "\n",
      "nfl_in = words('colts saints chargers 49ers seahawks patriots panthers broncos chiefs eagles bengals packers')\n",
      "nfl_out = words('''jets dolphins bills steelers ravens browns titans jaguars texans raiders cowboys giants \n",
      "    redskins bears lions vikings falcons buccaneers cardinals rams''')\n",
      "\n",
      "pharma = words('lipitor nexium plavix advair ablify seroquel singulair crestor actos epogen')\n",
      "cities = words('paris trinidad capetown riga zurich shanghai vancouver chicago adelaide auckland')\n",
      "\n",
      "foo = words('''afoot catfoot dogfoot fanfoot foody foolery foolish fooster footage foothot footle footpad footway \n",
      "    hotfoot jawfoot mafoo nonfood padfoot prefool sfoot unfool''')\n",
      "bar = words('''Atlas Aymoro Iberic Mahran Ormazd Silipan altared chandoo crenel crooked fardo folksy forest \n",
      "    hebamic idgah manlike marly palazzi sixfold tarrock unfold''')\n",
      "\n",
      "nouns = words('''time year people way day man thing woman life child world school \n",
      "    state family student group country problem hand part place case week company \n",
      "    system program question work government number night point home water room \n",
      "    mother area money story fact month lot right study book eye job word business \n",
      "    issue side kind head house service friend father power hour game line end member \n",
      "    law car city community name president team minute idea kid body information \n",
      "    back parent face others level office door health person art war history party result \n",
      "    change morning reason research girl guy moment air teacher force education''')\n",
      "adverbs = words('''all particularly just less indeed over soon course still yet before \n",
      "    certainly how actually better to finally pretty then around very early nearly now \n",
      "    always either where right often hard back home best out even away enough probably \n",
      "    ever recently never however here quite alone both about ok ahead of usually already \n",
      "    suddenly down simply long directly little fast there only least quickly much forward \n",
      "    today more on exactly else up sometimes eventually almost thus tonight as in close \n",
      "    clearly again no perhaps that when also instead really most why ago off \n",
      "    especially maybe later well together rather so far once''') - nouns  \n",
      "verbs = words('''ask believe borrow break bring buy can be able cancel change clean\n",
      "    comb complain cough count cut dance draw drink drive eat explain fall\n",
      "    fill find finish fit fix fly forget give go have hear hurt know learn\n",
      "    leave listen live look lose make do need open close shut organise pay\n",
      "    play put rain read reply run say see sell send sign sing sit sleep\n",
      "    smoke speak spell spend stand start begin study succeed swim take talk\n",
      "    teach tell think translate travel try turn off turn on type understand\n",
      "    use wait wake up want watch work worry write''') - nouns\n",
      "\n",
      "randoms = frozenset(vars(random))\n",
      "builtins = frozenset(vars(__builtin__)) - randoms\n",
      "\n",
      "starwars = phrases('''The Phantom Menace / Attack of the Clones / Revenge of the Sith /\n",
      "    A New Hope / The Empire Strikes Back / Return of the Jedi''')\n",
      "\n",
      "startrek = phrases('''The Wrath of Khan / The Search for Spock / The Voyage Home /\n",
      "    The Final Frontier / The Undiscovered Country / Generations / First Contact /\n",
      "    Insurrection / Nemesis''')\n",
      "\n",
      "dogs = phrases(''''Labrador Retrievers / German Shepherd Dogs / Golden Retrievers / Beagles / Bulldogs / \n",
      "    Yorkshire Terriers / Boxers / Poodles / Rottweilers / Dachshunds / Shih Tzu / Doberman Pinschers / \n",
      "    Miniature Schnauzers / French Bulldogs / German Shorthaired Pointers / Siberian Huskies / Great Danes / \n",
      "    Chihuahuas / Pomeranians / Cavalier King Charles Spaniels / Shetland Sheepdogs / Australian Shepherds / \n",
      "    Boston Terriers / Pembroke Welsh Corgis / Maltese / Mastiffs / Cocker Spaniels / Havanese / \n",
      "    English Springer Spaniels / Pugs / Brittanys / Weimaraners / Bernese Mountain Dogs / Vizslas / Collies / \n",
      "    West Highland White Terriers / Papillons / Bichons Frises / Bullmastiffs / Basset Hounds / \n",
      "    Rhodesian Ridgebacks / Newfoundlands / Russell Terriers / Border Collies / Akitas / \n",
      "    Chesapeake Bay Retrievers / Miniature Pinschers / Bloodhounds / St. Bernards / Shiba Inu / Bull Terriers / \n",
      "    Chinese Shar-Pei / Soft Coated Wheaten Terriers / Airedale Terriers / Portuguese Water Dogs / Whippets / \n",
      "    Alaskan Malamutes / Scottish Terriers / Australian Cattle Dogs / Cane Corso / Lhasa Apsos / \n",
      "    Chinese Crested / Cairn Terriers / English Cocker Spaniels / Dalmatians / Italian Greyhounds / \n",
      "    Dogues de Bordeaux / Samoyeds / Chow Chows / German Wirehaired Pointers / Belgian Malinois / \n",
      "    Great Pyrenees / Pekingese / Irish Setters / Cardigan Welsh Corgis / Staffordshire Bull Terriers / \n",
      "    Irish Wolfhounds / Old English Sheepdogs / American Staffordshire Terriers / Bouviers des Flandres / \n",
      "    Greater Swiss Mountain Dogs / Japanese Chin / Tibetan Terriers / Brussels Griffons / \n",
      "    Wirehaired Pointing Griffons / Border Terriers / English Setters / Basenjis / Standard Schnauzers / \n",
      "    Silky Terriers / Flat-Coated Retrievers / Norwich Terriers / Afghan Hounds / Giant Schnauzers / Borzois / \n",
      "    Wire Fox Terriers / Parson Russell Terriers / Schipperkes / Gordon Setters / Treeing Walker Coonhounds''')\n",
      "cats = phrases('''Abyssinian / Aegean cat / Australian Mist / American Curl / American Bobtail / \n",
      "    American Polydactyl / American Shorthair / American Wirehair / Arabian Mau / Asian / Asian Semi-longhair / \n",
      "    Balinese / Bambino / Bengal / Birman / Bombay / Brazilian Shorthair / British Shorthair / British Longhair / \n",
      "    Burmese / Burmilla / California Spangled Cat / Chantilly/Tiffany / Chartreux / Chausie / Cheetoh / \n",
      "    Colorpoint Shorthair / Cornish Rex / Cymric / Cyprus cat / Devon Rex / Donskoy or Don Sphynx / Dragon Li / \n",
      "    Dwelf / Egyptian Mau / European Shorthair / Exotic Shorthair / German Rex / Havana Brown / Highlander / \n",
      "    Himalayan-Colorpoint Persian / Japanese Bobtail / Javanese / Khao Manee / Korat / Korn Ja / \n",
      "    Kurilian Bobtail / LaPerm / Maine Coon / Manx / Mekong bobtail / Minskin / Munchkin / Nebelung / Napoleon / \n",
      "    Norwegian Forest Cat / Ocicat / Ojos Azules / Oregon Rex / Oriental Bicolor / Oriental Shorthair / \n",
      "    Oriental Longhair / Persian / Peterbald / Pixie-bob / Ragamuffin / Ragdoll / Russian Blue / Russian Black / \n",
      "    Sam Sawet / Savannah / Scottish Fold / Selkirk Rex / Serengeti cat / Serrade petit / Siamese / Siberian / \n",
      "    Singapura / Snowshoe / Sokoke / Somali / Sphynx / Swedish forest cat / Thai / Tonkinese / Toyger / \n",
      "    Turkish Angora / Turkish Van / Ukrainian Levkoy / York Chocolate Cat''')"
     ],
     "language": "python",
     "metadata": {},
     "outputs": [],
     "prompt_number": 2
    },
    {
     "cell_type": "markdown",
     "metadata": {},
     "source": [
      "And here we show how it works:"
     ]
    },
    {
     "cell_type": "code",
     "collapsed": false,
     "input": [
      "findregex(starwars, startrek)"
     ],
     "language": "python",
     "metadata": {},
     "outputs": [
      {
       "output_type": "pyout",
       "prompt_number": 3,
       "text": [
        "' T|E.P| N'"
       ]
      }
     ],
     "prompt_number": 3
    },
    {
     "cell_type": "code",
     "collapsed": false,
     "input": [
      "verify(' T|E.P| N', starwars, startrek)"
     ],
     "language": "python",
     "metadata": {},
     "outputs": [
      {
       "output_type": "pyout",
       "prompt_number": 4,
       "text": [
        "True"
       ]
      }
     ],
     "prompt_number": 4
    },
    {
     "cell_type": "markdown",
     "metadata": {},
     "source": [
      "Plan of Attack\n",
      "----\n",
      "\n",
      "To improve the program, I'll take the following steps:\n",
      "\n",
      "- *Profiling:* Figure out where the program spends its time.\n",
      "- *Speedup:* Make the program faster.\n",
      "- *Benchmarking:* Run the program over pairs of arbitrary lists to see how fast it is and how short the solutions are. \n",
      "- *Studying:* Learn something by looking at the benchmark results.\n",
      "- *Searching:* Introduce a better search algorithm.\n",
      "- *Eliminating Components:* Get rid of components that can't possibly be part of an optimal solution.\n",
      "- *Adding Components:* Add new types of components to allow new, shorter solutions.\n",
      "- *Randomizing Search:* Randomness allows us to explore different parts of the search space.\n",
      "- *Speculating:* Think about what we could do next.\n",
      "\n",
      "Profiling \n",
      "----\n",
      "\n",
      "Let's see how long it takes to separate the top 100 adverbs from top 100 nouns. We can use iPython's magic incantation `%time`:"
     ]
    },
    {
     "cell_type": "code",
     "collapsed": false,
     "input": [
      "%time findregex(adverbs, nouns)"
     ],
     "language": "python",
     "metadata": {},
     "outputs": [
      {
       "output_type": "stream",
       "stream": "stdout",
       "text": [
        "CPU times: user 7.22 s, sys: 290 ms, total: 7.51 s\n",
        "Wall time: 7.29 s\n"
       ]
      },
      {
       "output_type": "pyout",
       "prompt_number": 5,
       "text": [
        "'a.l|^..$|st$|et|re$|tl|^al|en$|ver$|nl|^a.o|ui|ll|no|^to|l.s|ard|a.a|o.n$|i..e|f$|ls|yb|ns|rh|wh|hu|ah|nc|^v|imp|hat|muc|far|out|^ra|ow$|ur.|lon|bot|lat'"
       ]
      }
     ],
     "prompt_number": 5
    },
    {
     "cell_type": "markdown",
     "metadata": {},
     "source": [
      " On my computer it was 7 seconds.  I have some ideas for how to make this faster, but over the years I've learned an important lesson: don't waste effort trying to speed up parts of your program that [don't take much of the total time](http://en.wikipedia.org/wiki/Amdahl's_law).  I'll use the [`cProfile`](http://docs.python.org/2/library/profile.html#module-cProfile) module to see where the time goes:"
     ]
    },
    {
     "cell_type": "code",
     "collapsed": false,
     "input": [
      "import cProfile\n",
      "\n",
      "cProfile.run('findregex(adverbs, nouns)', sort='cumulative')"
     ],
     "language": "python",
     "metadata": {},
     "outputs": [
      {
       "output_type": "stream",
       "stream": "stdout",
       "text": [
        "         15837886 function calls (15832965 primitive calls) in 10.975 seconds\n",
        "\n",
        "   Ordered by: cumulative time\n",
        "\n",
        "   ncalls  tottime  percall  cumtime  percall filename:lineno(function)\n",
        "        1    0.000    0.000   10.975   10.975 <string>:1(<module>)\n",
        "        1    0.001    0.001   10.975   10.975 <ipython-input-1-4d0ed760084b>:15(findregex)\n",
        "    53900    0.056    0.000   10.854    0.000 <ipython-input-1-4d0ed760084b>:31(matches)\n",
        "    53900    1.362    0.000   10.799    0.000 <ipython-input-1-4d0ed760084b>:33(<setcomp>)\n",
        "  2831603    2.095    0.000    9.437    0.000 re.py:139(search)\n",
        "  2831603    2.383    0.000    6.275    0.000 re.py:226(_compile)\n",
        "       41    0.016    0.000    5.031    0.123 {max}\n",
        "    25183    0.039    0.000    5.015    0.000 <ipython-input-1-4d0ed760084b>:23(score)\n",
        "       41    0.024    0.001    4.677    0.114 <ipython-input-1-4d0ed760084b>:28(<setcomp>)\n",
        "    52999    0.222    0.000    3.223    0.000 sre_compile.py:495(compile)\n",
        "    52999    0.210    0.000    1.605    0.000 sre_parse.py:663(parse)\n",
        "    52999    0.109    0.000    1.306    0.000 sre_compile.py:480(_code)\n",
        "        1    0.000    0.000    1.261    1.261 <ipython-input-1-4d0ed760084b>:37(regex_components)\n",
        "        1    0.004    0.004    1.230    1.230 <ipython-input-1-4d0ed760084b>:41(<setcomp>)\n",
        "    52999    0.107    0.000    1.163    0.000 sre_parse.py:301(_parse_sub)\n",
        "  2831603    1.067    0.000    1.067    0.000 {method 'search' of '_sre.SRE_Pattern' objects}\n",
        "    52999    0.423    0.000    1.014    0.000 sre_parse.py:379(_parse)\n",
        "    52999    0.494    0.000    0.958    0.000 sre_compile.py:361(_compile_info)\n",
        "  2831603    0.577    0.000    0.577    0.000 {method 'get' of 'dict' objects}\n",
        "   309666    0.165    0.000    0.474    0.000 sre_parse.py:201(get)\n",
        "   362665    0.339    0.000    0.397    0.000 sre_parse.py:182(__next)\n",
        "    52999    0.302    0.000    0.346    0.000 sre_parse.py:140(getwidth)\n",
        "    52999    0.191    0.000    0.233    0.000 sre_compile.py:32(_compile)\n",
        "  1080196    0.156    0.000    0.156    0.000 {method 'append' of 'list' objects}\n",
        "    52999    0.050    0.000    0.138    0.000 sre_parse.py:178(__init__)\n",
        "   203668    0.099    0.000    0.131    0.000 sre_parse.py:138(append)\n",
        "  1074046    0.112    0.000    0.112    0.000 {len}\n",
        "   105998    0.066    0.000    0.080    0.000 sre_compile.py:474(isstring)\n",
        "    52999    0.048    0.000    0.048    0.000 {_sre.compile}\n",
        "   105998    0.044    0.000    0.044    0.000 {min}\n",
        "   158997    0.041    0.000    0.041    0.000 {isinstance}\n",
        "    52999    0.033    0.000    0.033    0.000 sre_parse.py:67(__init__)\n",
        "        1    0.003    0.003    0.031    0.031 <ipython-input-1-4d0ed760084b>:40(<setcomp>)\n",
        "    52999    0.030    0.000    0.030    0.000 sre_parse.py:90(__init__)\n",
        "7052/2131    0.008    0.000    0.026    0.000 <ipython-input-1-4d0ed760084b>:47(dotify)\n",
        "    52999    0.023    0.000    0.023    0.000 sre_parse.py:195(match)\n",
        "    68130    0.021    0.000    0.021    0.000 {method 'extend' of 'list' objects}\n",
        "     4921    0.015    0.000    0.019    0.000 <ipython-input-1-4d0ed760084b>:52(<setcomp>)\n",
        "   140650    0.017    0.000    0.017    0.000 {ord}\n",
        "      529    0.011    0.000    0.011    0.000 {method 'clear' of 'dict' objects}\n",
        "    52999    0.009    0.000    0.009    0.000 {method 'items' of 'dict' objects}\n",
        "    10829    0.003    0.000    0.003    0.000 <ipython-input-1-4d0ed760084b>:55(replacements)\n",
        "       98    0.001    0.000    0.002    0.000 <ipython-input-1-4d0ed760084b>:43(subparts)\n",
        "     2874    0.001    0.000    0.001    0.000 <ipython-input-1-4d0ed760084b>:45(<genexpr>)\n",
        "       98    0.000    0.000    0.000    0.000 {range}\n",
        "        1    0.000    0.000    0.000    0.000 <ipython-input-1-4d0ed760084b>:39(<setcomp>)\n",
        "        1    0.000    0.000    0.000    0.000 {method 'join' of 'str' objects}\n",
        "        1    0.000    0.000    0.000    0.000 {method 'disable' of '_lsprof.Profiler' objects}\n",
        "\n",
        "\n"
       ]
      }
     ],
     "prompt_number": 6
    },
    {
     "cell_type": "markdown",
     "metadata": {},
     "source": [
      "We can see that about 99% of the cumulative time was spent in `matches`. And 85% of the time in `matches` goes to calling `re.search`. So my first thoughts are: \n",
      "    \n",
      "+ Can we make each call to `matches` run faster? \n",
      "+ Can we make fewer calls to `matches`?\n",
      "+ Can we use `re.search` more effectively? \n",
      "+ Nothing else matters.  99% of the time is in `matches`; don't waste effort speeding up anything else.\n",
      "\n",
      "Speedup: Matching Faster by Compiling Regexes\n",
      "----\n",
      "\n",
      "Here's one way to use `re.search` more effectively (and thus make `matches` faster): The `re` package uses strings to specify regular expressions, but internally, when we call `re.search` on a string, that string is compiled, with the function `re.compile`, into an object that has a `search` method, which is then called.  If you need to search many times with the same regex, then it is faster to call `re.compile` (and then call the `search` method on the compiled object), rather than calling `re.search`.\n",
      "\n",
      "One thing to be careful of: the `re` module manages a cache of recent compilations.  When we do our timing measurements we will call `re.purge()` first to clear the cache, to make sure that we don't get misleading time measurements (because some of the regex-compilation work was already done by a previous match)."
     ]
    },
    {
     "cell_type": "code",
     "collapsed": false,
     "input": [
      "def matches(regex, strings):\n",
      "    \"Return a set of all the strings that are matched by regex.\"\n",
      "    searcher = re.compile(regex).search\n",
      "    return {s for s in strings if searcher(s)}"
     ],
     "language": "python",
     "metadata": {},
     "outputs": [],
     "prompt_number": 7
    },
    {
     "cell_type": "code",
     "collapsed": false,
     "input": [
      "re.purge();\n",
      "%time findregex(adverbs, nouns)"
     ],
     "language": "python",
     "metadata": {},
     "outputs": [
      {
       "output_type": "stream",
       "stream": "stdout",
       "text": [
        "CPU times: user 3.39 s, sys: 80.3 ms, total: 3.47 s\n",
        "Wall time: 3.41 s\n"
       ]
      },
      {
       "output_type": "pyout",
       "prompt_number": 8,
       "text": [
        "'a.l|^..$|st$|et|re$|tl|^al|en$|ver$|nl|^a.o|ui|ll|no|^to|l.s|ard|a.a|o.n$|i..e|f$|ls|yb|ns|rh|wh|hu|ah|nc|^v|imp|hat|muc|far|out|^ra|ow$|ur.|lon|bot|lat'"
       ]
      }
     ],
     "prompt_number": 8
    },
    {
     "cell_type": "markdown",
     "metadata": {},
     "source": [
      "*That was twice as fast!*  Not bad for adding one line.  \n",
      "\n",
      "Here's one thing about optimizing Python code that is not an issue with, say, C code: there is overhead in executing Python statements, because they go through the Python byte code interpreter.  There is no such overhead for the built-in functions (which are written in C), so it often is faster to replace statement logic with built-in functions. We can compare `{s for s in strings if searcher(s)}` with a call to the built-in function `filter`. Here I will use `%timeit%` which runs the statement repeatedly in a loop, repeats the loop 3 times, and reports the resulting best time:"
     ]
    },
    {
     "cell_type": "code",
     "collapsed": false,
     "input": [
      "searcher = re.compile('^a.o').search\n",
      "strings = adverbs\n",
      "\n",
      "%timeit {s for s in strings if searcher(s)}\n",
      "%timeit set(filter(searcher, strings))"
     ],
     "language": "python",
     "metadata": {},
     "outputs": [
      {
       "output_type": "stream",
       "stream": "stdout",
       "text": [
        "10000 loops, best of 3: 39.9 \u00b5s per loop\n",
        "10000 loops, best of 3: 32.5 \u00b5s per loop"
       ]
      },
      {
       "output_type": "stream",
       "stream": "stdout",
       "text": [
        "\n"
       ]
      }
     ],
     "prompt_number": 9
    },
    {
     "cell_type": "markdown",
     "metadata": {},
     "source": [
      "So `filter` is about 18% faster.  We'll keep it:"
     ]
    },
    {
     "cell_type": "code",
     "collapsed": false,
     "input": [
      "def matches(regex, strings):\n",
      "    \"Return a set of all the strings that are matched by regex.\"\n",
      "    searcher = re.compile(regex).search\n",
      "    return set(filter(searcher, strings))"
     ],
     "language": "python",
     "metadata": {},
     "outputs": [],
     "prompt_number": 10
    },
    {
     "cell_type": "code",
     "collapsed": false,
     "input": [
      "re.purge();\n",
      "%time findregex(adverbs, nouns)"
     ],
     "language": "python",
     "metadata": {},
     "outputs": [
      {
       "output_type": "stream",
       "stream": "stdout",
       "text": [
        "CPU times: user 3.24 s, sys: 159 ms, total: 3.4 s\n",
        "Wall time: 3.28 s\n"
       ]
      },
      {
       "output_type": "pyout",
       "prompt_number": 11,
       "text": [
        "'a.l|^..$|st$|et|re$|tl|^al|en$|ver$|nl|^a.o|ui|ll|no|^to|l.s|ard|a.a|o.n$|i..e|f$|ls|yb|ns|rh|wh|hu|ah|nc|^v|imp|hat|muc|far|out|^ra|ow$|ur.|lon|bot|lat'"
       ]
      }
     ],
     "prompt_number": 11
    },
    {
     "cell_type": "markdown",
     "metadata": {},
     "source": [
      " I've run out of ways to make an individual call to  `matches`  faster, so let's try to make fewer matches.\n",
      "\n",
      "Speedup: Minimizing `matches` Against Losers\n",
      "---"
     ]
    },
    {
     "cell_type": "markdown",
     "metadata": {},
     "source": [
      "I will start by minimizing the number of matches against `losers`.  In `regex_components`, for each part, `p`, we test `if not matches(p, losers)`. This applies `searcher` to every loser and builds up a set of all those that match.  It would be faster if we could *exit early*: as soon as we find one loser that matches, we don't need to apply `searcher` to the remaining losers.  We could do something like this:\n",
      "    \n",
      "    def matches_any(regex, strings):\n",
      "        searcher = re.compile(regex).search\n",
      "        return any(searcher(s) for s in strrings)\n",
      "\n",
      "But Stefan Pochmann came up with a better idea. If we concatenate the list of losers together into one big string, then we can call `re.search` *only once* (for each part `p`) on that big string.  If a part matches the big string anywhere, the call will return immediately, and we will know the part is no good. We have effectively moved the work from Python statements into a builtin function, which should be faster (but we will measure to be sure).\n",
      "\n",
      "There is one catch: because we allow `'^'` and `'$'` in our regex parts, we'll have to arrange that the start of each loser matches `'^'` and the end matches `'$'`.  We can do that by concatenating together the losers with a newline between them, and by using the `re.MULTILINE` option to say that `'^'` and `'$'` match at newlines. (See the [`re` module](http://docs.python.org/2/library/re.html) documentation if this is unfamiliar.)\n",
      "\n",
      "Here it is, with before-and-after timing:  "
     ]
    },
    {
     "cell_type": "code",
     "collapsed": false,
     "input": [
      "%timeit re.purge(); regex_components(winners, losers)  "
     ],
     "language": "python",
     "metadata": {},
     "outputs": [
      {
       "output_type": "stream",
       "stream": "stdout",
       "text": [
        "10 loops, best of 3: 137 ms per loop\n"
       ]
      }
     ],
     "prompt_number": 12
    },
    {
     "cell_type": "code",
     "collapsed": false,
     "input": [
      "def regex_components(winners, losers):\n",
      "    \"Return components that match at least one winner, but no loser.\"\n",
      "    losers_str = '\\n'.join(losers)\n",
      "    def no_losers(part): return not re.compile(part, re.MULTILINE).search(losers_str)\n",
      "    wholes = {'^'+winner+'$' for winner in winners}\n",
      "    parts = {d for w in wholes for p in subparts(w) for d in dotify(p)}\n",
      "    return wholes | set(filter(no_losers, parts))"
     ],
     "language": "python",
     "metadata": {},
     "outputs": [],
     "prompt_number": 13
    },
    {
     "cell_type": "code",
     "collapsed": false,
     "input": [
      "%timeit re.purge(); regex_components(winners, losers)"
     ],
     "language": "python",
     "metadata": {},
     "outputs": [
      {
       "output_type": "stream",
       "stream": "stdout",
       "text": [
        "10 loops, best of 3: 116 ms per loop\n"
       ]
      }
     ],
     "prompt_number": 14
    },
    {
     "cell_type": "markdown",
     "metadata": {},
     "source": [
      "Speedup: Minimizing `matches` Against Winners\n",
      "----\n",
      "\n",
      "Here's what `findregex` currently looks like:"
     ]
    },
    {
     "cell_type": "code",
     "collapsed": false,
     "input": [
      "def findregex(winners, losers):\n",
      "    \"Find a regex that matches all winners but no losers (sets of strings).\"\n",
      "    # Make a pool of regex components, then pick from them to cover winners.\n",
      "    # On each iteration, add the 'best' component to 'solution',\n",
      "    # remove winners covered by best, and keep in 'pool' only components\n",
      "    # that still match some winner.\n",
      "    pool = regex_components(winners, losers)\n",
      "    solution = []\n",
      "    def score(r): return 4 * len(matches(r, winners)) - len(r)\n",
      "    while winners:\n",
      "        best = max(pool, key=score)\n",
      "        solution.append(best)\n",
      "        winners = winners - matches(best, winners)\n",
      "        pool = {r for r in pool if matches(r, winners)}\n",
      "    return OR(solution)"
     ],
     "language": "python",
     "metadata": {},
     "outputs": [],
     "prompt_number": 15
    },
    {
     "cell_type": "markdown",
     "metadata": {},
     "source": [
      "Notice that we call `matches` twice for every component regex in the pool on every iteration of the main loop. If there are 50 iterations of the loop, and 1000 components, that's 100,000 calls to `matches`. Instead of repeating all these calls, I propose that, for each component regex in the pool, we limit ourselves to this:\n",
      "\n",
      "- One `re.compile`.\n",
      "- One `re.search` against each of the winners.\n",
      "- One `re.search` against the big string of losers.\n",
      "\n",
      "How can we make sure we don't repeat searches?  By doing the search and *caching* the result.  During initialization, we create a dict, which we will call `covers`, such that `covers[r]` rerturns the set of all winners that match the regex `r`. From then on, we look in the dict rather than repeating a search. The new function `regex_covers` replaces the old function `regex_components`:"
     ]
    },
    {
     "cell_type": "code",
     "collapsed": false,
     "input": [
      "def regex_covers(winners, losers):\n",
      "    \"\"\"Generate regex components and return a dict of {regex: {winner...}}.\n",
      "    Each regex matches at least one winner and no loser.\"\"\"\n",
      "    losers_str = '\\n'.join(losers)\n",
      "    wholes = {'^'+winner+'$' for winner in winners}\n",
      "    parts = {d for w in wholes for p in subparts(w) for d in dotify(p)}\n",
      "    pool = wholes | parts\n",
      "    searchers = [re.compile(c, re.MULTILINE).search for c in pool]\n",
      "    return {r: set(filter(searcher, winners)) \n",
      "            for (r, searcher) in zip(pool, searchers)\n",
      "            if not searcher(losers_str)}"
     ],
     "language": "python",
     "metadata": {},
     "outputs": [],
     "prompt_number": 16
    },
    {
     "cell_type": "markdown",
     "metadata": {},
     "source": [
      "Now we rewrite `findregex` to call `regex_covers`, and replace the global `matches` function with a local function that looks into the `covers` cache. Notice that we can't just return the cached set of winners, `covers[r]`, we have to go through it and find only those elements that are still in the current set of remaining winners."
     ]
    },
    {
     "cell_type": "code",
     "collapsed": false,
     "input": [
      "def findregex(winners, losers):\n",
      "    \"Find a regex that matches all winners but no losers (sets of strings).\"\n",
      "    # Initialize covers = {regex: {winner,...}} for a large set of regex components.\n",
      "    # On each iteration, add the 'best' component to 'solution',\n",
      "    # remove winners covered by best, and keep in 'pool' only components\n",
      "    # that still match some winner.\n",
      "    covers = regex_covers(winners, losers)\n",
      "    pool = set(covers)\n",
      "    solution = []\n",
      "        \n",
      "    def matches(r, winners): return {w for w in covers[r] if w in winners}\n",
      "    \n",
      "    def score(r): return 4 * len(matches(r, winners)) - len(r)\n",
      "    \n",
      "    while winners:\n",
      "        best = max(pool, key=score)\n",
      "        solution.append(best)\n",
      "        winners = winners - covers[best]\n",
      "        pool = {r for r in pool if matches(r, winners)}\n",
      "    return OR(solution)"
     ],
     "language": "python",
     "metadata": {},
     "outputs": [],
     "prompt_number": 17
    },
    {
     "cell_type": "code",
     "collapsed": false,
     "input": [
      "re.purge()\n",
      "%time findregex(adverbs, nouns)"
     ],
     "language": "python",
     "metadata": {},
     "outputs": [
      {
       "output_type": "stream",
       "stream": "stdout",
       "text": [
        "CPU times: user 316 ms, sys: 48.9 ms, total: 365 ms\n",
        "Wall time: 327 ms\n"
       ]
      },
      {
       "output_type": "pyout",
       "prompt_number": 18,
       "text": [
        "'a.l|^..$|st$|et|re$|tl|^al|en$|ver$|nl|^a.o|ui|ll|no|^to|l.s|ard|a.a|o.n$|i..e|f$|ls|yb|ns|rh|wh|hu|ah|nc|^v|imp|hat|muc|far|out|^ra|ow$|ur.|lon|bot|lat'"
       ]
      }
     ],
     "prompt_number": 18
    },
    {
     "cell_type": "markdown",
     "metadata": {},
     "source": [
      "*Wow!* That's approximately 10 times faster than the previous version of `findregex`, and 20 times faster than the first version!  But I don't want to draw too many conclusions from just this one example."
     ]
    },
    {
     "cell_type": "markdown",
     "metadata": {},
     "source": [
      "Benchmarking\n",
      "----\n",
      "\n",
      "We will benchmark the program on a suite of 20 different problems, and summarize the results.  For each problem we'll print the number of characters in the solution, the number of winners covered, the time it took, and the solution.  And we'll store solutions in the dict `SOLUTION`, because it might be useful to have them."
     ]
    },
    {
     "cell_type": "code",
     "collapsed": false,
     "input": [
      "import time\n",
      "\n",
      "ALL = [ # An example has two sets of strings, each with a one-character initial identifying it.\n",
      "    (winners, 'W', 'L', losers),\n",
      "    (boys, 'B', 'G', girls),\n",
      "    (nfl_in, 'I', 'O', nfl_out),\n",
      "    (pharma, 'P', 'C', cities),\n",
      "    (foo, 'F', 'B', bar),\n",
      "    (starwars, 'W', 'T', startrek),\n",
      "    (nouns, 'N', 'A', adverbs),\n",
      "    (nouns, 'N', 'V', verbs),\n",
      "    (randoms, 'R', 'B', builtins),\n",
      "    (dogs, 'D', 'C', cats)]\n",
      "\n",
      "ALL = [d for datum in ALL for d in (datum, datum[::-1])] # Add in the reverse versions\n",
      "\n",
      "SOLUTION = {} # Remember solutions; SOLUTION[W, L] will hold a regex\n",
      "               \n",
      "def benchmark(examples=ALL): \n",
      "    \"Run examples; print summaries; return total of solution lengths.\"\n",
      "    total = 0\n",
      "    for (W, Wname, Lname, L) in examples:\n",
      "        re.purge()\n",
      "        t0 = time.time()\n",
      "        solution = SOLUTION[W, L] = findregex(W, L)\n",
      "        t1 = time.time()\n",
      "        assert verify(solution, W, L)\n",
      "        print '%3d ch %3d win %5.2f s %s-%s: %r' % (\n",
      "            len(solution), len(W), t1-t0, Wname, Lname, solution)\n",
      "        total += len(solution)\n",
      "    return total"
     ],
     "language": "python",
     "metadata": {},
     "outputs": [],
     "prompt_number": 19
    },
    {
     "cell_type": "code",
     "collapsed": false,
     "input": [
      "%time benchmark()"
     ],
     "language": "python",
     "metadata": {},
     "outputs": [
      {
       "output_type": "stream",
       "stream": "stdout",
       "text": [
        " 53 ch  34 win  0.17 s W-L: 'a.a|a..i|j|oo|a.t|i..o|i..n|bu|n.e|ay.|r.e$|tr|po|v.l'\n",
        " 60 ch  34 win  0.14 s L-W: '^s|^d|r.$|^.re|cc|hu|ney|o.d|l.i|d.n$|ya|rk|oc|ss|x$|cla|^ki'"
       ]
      },
      {
       "output_type": "stream",
       "stream": "stdout",
       "text": [
        "\n",
        " 11 ch  10 win  0.04 s B-G: 'e.$|a.$|a.o'\n",
        " 10 ch  10 win  0.04 s G-B: 'a$|^..i|ad'"
       ]
      },
      {
       "output_type": "stream",
       "stream": "stdout",
       "text": [
        "\n",
        " 24 ch  12 win  0.06 s I-O: 'pa|g..s|4|nc|lt|fs|wk|sa'"
       ]
      },
      {
       "output_type": "stream",
       "stream": "stdout",
       "text": [
        "\n",
        " 21 ch  20 win  0.08 s O-I: 'ns|^.i|d|j|ee|y|m|ars'"
       ]
      },
      {
       "output_type": "stream",
       "stream": "stdout",
       "text": [
        "\n",
        " 15 ch  10 win  0.05 s P-C: 'o.$|x|ir|b|q|en'"
       ]
      },
      {
       "output_type": "stream",
       "stream": "stdout",
       "text": [
        "\n",
        " 11 ch  10 win  0.05 s C-P: 'ri|an|ca|id'"
       ]
      },
      {
       "output_type": "stream",
       "stream": "stdout",
       "text": [
        "\n",
        "  3 ch  21 win  0.06 s F-B: 'f.o'"
       ]
      },
      {
       "output_type": "stream",
       "stream": "stdout",
       "text": [
        "\n",
        " 27 ch  21 win  0.09 s B-F: 'r..$|k|or|^..l|ld|...n|b|ga'"
       ]
      },
      {
       "output_type": "stream",
       "stream": "stdout",
       "text": [
        "\n",
        "  9 ch   6 win  0.07 s W-T: ' T|E.P| N'"
       ]
      },
      {
       "output_type": "stream",
       "stream": "stdout",
       "text": [
        "\n",
        " 14 ch   9 win  0.10 s T-W: 'ER|N$|F.R|Y|IS'"
       ]
      },
      {
       "output_type": "stream",
       "stream": "stdout",
       "text": [
        "\n",
        "170 ch 100 win  0.32 s N-A: 'm.n|a.e$|m$|in.$|en.$|ch.|^w.r|io|^g|id|s.n|o.y|..k$|mb|lt|rc|an|me$|s.u|i.y|^wa|hou|f.c|rt$|^.ig|ot.e|tr|b$|eo|if|ca|rv|ey|po|a$|yea|v.l|^da|or$|rty|aw$|ot$|f.t|ir$|^hea'"
       ]
      },
      {
       "output_type": "stream",
       "stream": "stdout",
       "text": [
        "\n",
        "152 ch  98 win  0.31 s A-N: 'a.l|^..$|st$|et|re$|tl|^al|en$|ver$|nl|^a.o|ui|ll|no|^to|l.s|ard|a.a|o.n$|i..e|f$|ls|yb|ns|rh|wh|hu|ah|nc|^v|imp|hat|muc|far|out|^ra|ow$|ur.|lon|bot|lat'"
       ]
      },
      {
       "output_type": "stream",
       "stream": "stdout",
       "text": [
        "\n",
        "174 ch 100 win  0.34 s N-V: 'm.n|er$|am|es|^.ar|ho|.on|or.$|id|o.l|f.c|..h.|h..d|ye|dy|ir|^ar|t.m|m..n|b..k|...u|h.ng|j|gu|fr|fe|lt|rv|rc|oi|we|ot|ud|ci|ki|roo|.tr|day|or$|w.y|ase|^la|tat|ine|^en|lac|lev'"
       ]
      },
      {
       "output_type": "stream",
       "stream": "stdout",
       "text": [
        "\n",
        "177 ch  94 win  0.25 s V-N: '^..l|ak|v.$|^..$|s..n|^fi|a.n|.pe|o.g|^tr|ut$|lo..|w..t|...w|ep|nk|nc|ed$|ur.|^s.n|tc|f$|eg|ru|sw|br|cl|^u|rr|fl|ke|sk|sa|ee$|it$|p.y|tar|l.y|buy|at$|o.b|can|re.d|a.h$|hear|unt$'"
       ]
      },
      {
       "output_type": "stream",
       "stream": "stdout",
       "text": [
        "\n",
        " 95 ch  64 win  0.30 s R-B: 'a.._|..om|no|r.nd|be|f$|es$|t.st|ei|ia|o$|u..t|ch..|o..s|ga|ld|do|_f|ee|we|hu|Te|if|^la|np$|^sa'"
       ]
      },
      {
       "output_type": "stream",
       "stream": "stdout",
       "text": [
        "\n",
        "140 ch 141 win  0.70 s B-R: 'E|g$|a.s|I|co|^f.|tr$|^o|^re|u.$|..p$|n.e$|rt|^a|^..x|hr|it|mo|li|ho|up|e.u|l.a|in$|^int|N|ty|cf|ha|ea|w$|ro|fe|bo|id|pr|ev|^le|ct$|ir$|set$'"
       ]
      },
      {
       "output_type": "stream",
       "stream": "stdout",
       "text": [
        "\n",
        " 76 ch 100 win  0.64 s D-C: 'E.S$|O.S$|DS|.AS|.HI|RD|.D.E|P.M|IES|N.S$|GS|FR|LM|LT|EKI|.SO|AGL|^HAVANESE$'"
       ]
      },
      {
       "output_type": "stream",
       "stream": "stdout",
       "text": [
        "\n",
        "113 ch  91 win  0.55 s C-D: 'AI.$|T$|AN$|EX|L$|A$|Y$|A..B|NX|M.I|R$|H$|O.O|BAL|RAG|MES|KI.$|^CHA|-B|G$|GY|M$|WN|O |OE|EO|NK|F$|J.V|O.A|H.F|^TH'"
       ]
      },
      {
       "output_type": "stream",
       "stream": "stdout",
       "text": [
        "\n",
        "CPU times: user 4.36 s, sys: 91.5 ms, total: 4.45 s\n",
        "Wall time: 4.39 s\n"
       ]
      },
      {
       "output_type": "pyout",
       "prompt_number": 20,
       "text": [
        "1355"
       ]
      }
     ],
     "prompt_number": 20
    },
    {
     "cell_type": "markdown",
     "metadata": {},
     "source": [
      "In 4 seconds we solved twenty problems, getting a score of 1355 for the total number of characters in all the solutions.  \n",
      "\n",
      "(*Note:* if you run this, you  might get a slightly different answer.  Why? The algorithm has no random parts in it; shouldn't it return the same result every time? It will return the same results if you run it twice in the same Python.  But when `findregex` evaluates `max(pool, key=score)` and two components are tied for the best score, Python chooses the one that comes first in the iteration of `pool`.  And different versions of Python can iterate over `pool` in different orders.)\n",
      "\n",
      "Studying\n",
      "----\n",
      "\n",
      "What can we do to understand the program better?  Can we determine what kinds of regex components are being used?  What kinds might we add that are missing? How might we make the program faster? Or allow it to find better solutions?\n",
      "\n",
      "Let's start by understanding what the regex components look like.  Glancing over the output of the benchmark, my impression is that most components are short, in the 2-4 character range.  We can be more precise:"
     ]
    },
    {
     "cell_type": "code",
     "collapsed": false,
     "input": [
      "from collections import Counter, defaultdict\n",
      "\n",
      "components = [r for solution in SOLUTION.values() for r in solution.split('|')]\n",
      "\n",
      "Counter(map(len, components)).most_common()"
     ],
     "language": "python",
     "metadata": {},
     "outputs": [
      {
       "output_type": "pyout",
       "prompt_number": 21,
       "text": [
        "[(2, 167), (3, 129), (4, 63), (1, 16), (10, 1)]"
       ]
      }
     ],
     "prompt_number": 21
    },
    {
     "cell_type": "markdown",
     "metadata": {},
     "source": [
      "This says that there are 167 components of length 2, etc. We can also view this data as a histogram:"
     ]
    },
    {
     "cell_type": "code",
     "collapsed": false,
     "input": [
      "hist(map(len, components));"
     ],
     "language": "python",
     "metadata": {},
     "outputs": [
      {
       "output_type": "display_data",
       "png": "[encoded data removed]",
       "text": [
        "<matplotlib.figure.Figure at 0x7c62390>"
       ]
      }
     ],
     "prompt_number": 22
    },
    {
     "cell_type": "markdown",
     "metadata": {},
     "source": [
      "There's also one component of length 10; that's such an outlier, I wonder if it is an error?  Let's investigate."
     ]
    },
    {
     "cell_type": "code",
     "collapsed": false,
     "input": [
      "max(components, key=len)"
     ],
     "language": "python",
     "metadata": {},
     "outputs": [
      {
       "output_type": "pyout",
       "prompt_number": 23,
       "text": [
        "'^HAVANESE$'"
       ]
      }
     ],
     "prompt_number": 23
    },
    {
     "cell_type": "markdown",
     "metadata": {},
     "source": [
      "I happen to own [a Havanese](http://pn.smugmug.com/Family/Dobby-Idgie/i-2JPzBkL/A), but I don't think the program knew that.  Rather, it looks like the issue is that in the set of `cats` we have `'HAVANA BROWN'` and `'JAVANESE'`, which means that any 4-letter-or-less subsequence of `'HAVANESE'` matches one of these two.  So the only component that doesn't match one of these two cats is the whole, `'^HAVANESE$'`.\n",
      "\n",
      "What about the individual characters that make up the components?  Which ones are popular?  We can see:"
     ]
    },
    {
     "cell_type": "code",
     "collapsed": false,
     "input": [
      "cat = ''.join\n",
      "\n",
      "Counter(cat(components)).most_common(20)"
     ],
     "language": "python",
     "metadata": {},
     "outputs": [
      {
       "output_type": "pyout",
       "prompt_number": 24,
       "text": [
        "[('.', 149),\n",
        " ('$', 74),\n",
        " ('a', 63),\n",
        " ('e', 54),\n",
        " ('r', 53),\n",
        " ('o', 49),\n",
        " ('t', 42),\n",
        " ('^', 41),\n",
        " ('n', 40),\n",
        " ('i', 37),\n",
        " ('l', 33),\n",
        " ('s', 27),\n",
        " ('c', 24),\n",
        " ('u', 23),\n",
        " ('d', 21),\n",
        " ('h', 20),\n",
        " ('f', 19),\n",
        " ('y', 18),\n",
        " ('E', 13),\n",
        " ('b', 13)]"
       ]
      }
     ],
     "prompt_number": 24
    },
    {
     "cell_type": "markdown",
     "metadata": {},
     "source": [
      "I wonder if there are components that appear in many solutions?"
     ]
    },
    {
     "cell_type": "code",
     "collapsed": false,
     "input": [
      "Counter(components).most_common(20)"
     ],
     "language": "python",
     "metadata": {},
     "outputs": [
      {
       "output_type": "pyout",
       "prompt_number": 25,
       "text": [
        "[('id', 4),\n",
        " ('lt', 3),\n",
        " ('nc', 3),\n",
        " ('hu', 3),\n",
        " ('j', 3),\n",
        " ('f$', 3),\n",
        " ('v.l', 2),\n",
        " ('ga', 2),\n",
        " ('ld', 2),\n",
        " ('tr', 2),\n",
        " ('rc', 2),\n",
        " ('b', 2),\n",
        " ('ee', 2),\n",
        " ('or$', 2),\n",
        " ('a.a', 2),\n",
        " ('rv', 2),\n",
        " ('we', 2),\n",
        " ('^la', 2),\n",
        " ('ca', 2),\n",
        " ('^..$', 2)]"
       ]
      }
     ],
     "prompt_number": 25
    },
    {
     "cell_type": "markdown",
     "metadata": {},
     "source": [
      "I guess not.\n",
      "\n",
      "Studying: Set Cover Theory\n",
      "----\n",
      "\n",
      "Now I want to think about the problem as a [set cover problem](http://en.wikipedia.org/wiki/Set_cover_problem).  Wikipedia shows this diagram to explain set cover:\n",
      "    \n",
      "<img src=\"http://upload.wikimedia.org/wikipedia/commons/thumb/e/e8/Simple-bipartite-graph.svg/220px-Simple-bipartite-graph.svg.png\">\n",
      "\n",
      "The idea is that each blue dot in set $u$ on the left represents a regex component, and each green dot in set $v$ represents a winner that is matched by the regex component.  The problem is to pick some blue dots such that all the green dots are covered.  In this example, we can see that picking the blue dots that are second and third  from the top will do it.\n",
      "\n",
      "But in general, what do our graphs look like?  How many blue and green dots are there? How many links between them? Let's build a little tool to show show some information.  We'll list the $N$ \"most popular\" blue and green dots&mdash;the ones with the most links to the other side.  Then we'll show histograms of all the nodes and their numbers of links.\n",
      "\n",
      "But first some explanation: I use the term *multimap* for a dictionary which is a mapping `{key: collection}`.  So `covers` is a multimap of the form `{regex: {winner,...}}`. If we apply the function `invert_multimap` to `covers`, we get a dict of the form `{winner: {regex, ...}}`."
     ]
    },
    {
     "cell_type": "code",
     "collapsed": false,
     "input": [
      "import matplotlib.pylab as pylab\n",
      "pylab.rcParams['figure.figsize'] = (8.0, 4.0)\n",
      "\n",
      "def show(W, L, N=10):\n",
      "    covers = regex_covers(W, L)\n",
      "    inv = invert_multimap(covers)\n",
      "    for ((n1, w), (n2, r)) in zip(top(N, covers), top(N, inv)):\n",
      "        print \"%8s %2d | %3d %s\" % (w, n1, n2, r)\n",
      "    print \"TOTAL %5d | %3d TOTAL\" % (len(covers), len(W))\n",
      "    subplot(1, 2, 1); histmm(covers, \"regexes\", \"winners\")\n",
      "    subplot(1, 2, 2); histmm(inv, \"winners\", \"regexes\")\n",
      "    \n",
      "def top(N, multimap): \n",
      "    \"The top N longest items in a dict of {key: {val,...})\"\n",
      "    return sorted([(len(vals), key) for (key, vals) in multimap.items()], reverse=True)[:N]\n",
      "\n",
      "def histmm(multimap, key, val): \n",
      "    \"Display a histogram of how many values each key has.\"\n",
      "    hist(map(len, multimap.values()))\n",
      "    xlabel('set size of {' + val + ',...}')\n",
      "    ylabel('number of ' + key + ' mapping to that size')\n",
      "\n",
      "def invert_multimap(multimap):\n",
      "    \"Covert {key: {val,...}} to {val: [key,...]}.\"\n",
      "    result = defaultdict(set)\n",
      "    for key in multimap:\n",
      "        for val in multimap[key]:\n",
      "            result[val].add(key)\n",
      "    return result"
     ],
     "language": "python",
     "metadata": {},
     "outputs": [],
     "prompt_number": 26
    },
    {
     "cell_type": "code",
     "collapsed": false,
     "input": [
      "show(winners, losers)"
     ],
     "language": "python",
     "metadata": {},
     "outputs": [
      {
       "output_type": "stream",
       "stream": "stdout",
       "text": [
        "    i..n  4 | 110 van-buren\n",
        "     a.a  4 |  98 washington\n",
        "    a..i  4 |  93 jefferson\n",
        "    r.i.  3 |  93 eisenhower\n",
        "     r.i  3 |  81 garfield\n",
        "    oo..  3 |  78 roosevelt\n",
        "     oo.  3 |  72 buchanan\n",
        "      oo  3 |  61 obama\n",
        "      ma  3 |  61 kennedy\n",
        "    li..  3 |  59 jackson\n",
        "TOTAL  1615 |  34 TOTAL\n"
       ]
      },
      {
       "output_type": "display_data",
       "png": "[encoded data removed]",
       "text": [
        "<matplotlib.figure.Figure at 0x1000430>"
       ]
      }
     ],
     "prompt_number": 27
    },
    {
     "cell_type": "markdown",
     "metadata": {},
     "source": [
      "What does this say?  First the table says that there are only three regexes that have 4 winners; all the rest have 3 or fewer winners.  So the links going left-to-right are rather sparse.  There are more links going the other direction; 110 links go in to `'van-buren'`.  (Presumably in large part because the '-' character is unique, so any component containing a '-' will not match any loser.)  The histograms give the whole picture mapping set sizes to the number of keys that have that set size.  So, on the left we see that over 1400 regexes have a set size of one winner, and 100 or fewer have set sizes of 2 and 3, and we saw that only 3 regexes have a set size of 4 winners.  On the right, the histogram shows a wide spread of winners that have set sizes between 20 and 110 regexes.\n",
      "\n",
      "From looking at this I get two ideas:\n",
      "    \n",
      "+ I notice that both `'oo..'` and `'oo.'` happen to match 3 winners. But even if I didn't know how many they matched, I would know that the winners matched by `'oo..'` must be a subset of the winners matched by `'oo.'` (remember that a set is a subset of itself). Furthermore, `'oo.'` is shorter.  This suggests that we would *never* want to use  `'oo..'` in a solution, because we could always make the solution one character shorter (and cover at least all the same winners) by substituting `'oo.'`.  We say that *A dominates B* if *A* is shorter and matches a superset of winners. We might as well throw out all dominated regexes right at the start.\n",
      "\n",
      "+ It might be a good idea to pay special attention to the characters, like `'-'`, that appear in the winners but not the losers.\n",
      "\n",
      "Let's look at another example:"
     ]
    },
    {
     "cell_type": "code",
     "collapsed": false,
     "input": [
      "show(dogs, cats)"
     ],
     "language": "python",
     "metadata": {},
     "outputs": [
      {
       "output_type": "stream",
       "stream": "stdout",
       "text": [
        "    E.S$ 41 | 186 SOFT COATED WHEATEN TERRIERS\n",
        "     RS$ 34 | 184 STAFFORDSHIRE BULL TERRIERS\n",
        "    ERS$ 34 | 175 GREATER SWISS MOUNTAIN DOGS\n",
        "    .RS$ 34 | 162 TREEING WALKER COONHOUNDS\n",
        "    IE.S 22 | 157 CAVALIER KING CHARLES SPANIELS\n",
        "    E.RI 21 | 149 AMERICAN STAFFORDSHIRE TERRIERS\n",
        "    T..R 20 | 147 WEST HIGHLAND WHITE TERRIERS\n",
        "    IER. 19 | 146 STANDARD SCHNAUZERS\n",
        "     IER 19 | 146 FLAT-COATED RETRIEVERS\n",
        "    I.R. 19 | 146 CHESAPEAKE BAY RETRIEVERS\n",
        "TOTAL  4570 | 100 TOTAL\n"
       ]
      },
      {
       "output_type": "display_data",
       "png": "[encoded data removed]",
       "text": [
        "<matplotlib.figure.Figure at 0x7c4f610>"
       ]
      }
     ],
     "prompt_number": 28
    },
    {
     "cell_type": "markdown",
     "metadata": {},
     "source": [
      "My immediate reaction to this is \"there are a lot of retrievers and terriers.\"  All ten of the regexes in the table recognize this fact, but almost all the regexes (about 4400 out of 4570) match fewer than 5 dog breeds. In contrast, the right-hand histogram shows that most of the dog breeds have 9 or more regexes that match them.\n",
      "\n",
      "Let's look at one more example before drawing conclusions:"
     ]
    },
    {
     "cell_type": "code",
     "collapsed": false,
     "input": [
      "show(adverbs, nouns)"
     ],
     "language": "python",
     "metadata": {},
     "outputs": [
      {
       "output_type": "stream",
       "stream": "stdout",
       "text": [
        "     a.l 12 |  94 especially\n",
        "    a.ly 11 |  83 eventually\n",
        "    a.l. 11 |  74 particularly\n",
        "    .a.l 11 |  67 actually\n",
        "      ll  9 |  65 quickly\n",
        "    ^..$  9 |  65 exactly\n",
        "     .ll  9 |  65 directly\n",
        "    ..ll  8 |  63 certainly\n",
        "     all  7 |  61 usually\n",
        "     st$  6 |  57 recently\n",
        "TOTAL  2049 |  98 TOTAL\n"
       ]
      },
      {
       "output_type": "display_data",
       "png": "[encoded data removed]",
       "text": [
        "<matplotlib.figure.Figure at 0x1000410>"
       ]
      }
     ],
     "prompt_number": 29
    },
    {
     "cell_type": "markdown",
     "metadata": {},
     "source": [
      "The pattern looks similar here.  Almost all the regexes match only one winner, but most of the winners are matched by many regexes. What can I conclude from this?\n",
      "\n",
      "+ It would be good to think of new types of regexes that match more winners.\n",
      "+ Most regexes are 2 or 3 characters long and most match just 1 or 2 winners.  That suggests that often we will have a tie in the `score` function, and greedy search will arbitrarily pick the one that comes first. But I'm worried that another choice might be better. Maybe we should replace greedy search with something that considers more than one choice.\n",
      "\n",
      "Given all we've seen, I will shift my attention to understanding the search algorithm we have, and thinking about how to improve it."
     ]
    },
    {
     "cell_type": "markdown",
     "metadata": {},
     "source": [
      "Searching: Understanding Greedy Search\n",
      "----\n",
      "\n",
      "`findregex` is a *greedy search* algorithm. In general, greedy search is used when you are trying to find a solution that consists of components.  On each iteration you choose a component that looks good, and you never reconsider that choice;  you just keep on adding components until you get a complete solution.   \n",
      "\n",
      "The pseudo-code for a general `greedy_search`, described as a recursive function, is given below. It takes two arguments: a set of components, and a partial solution indicating components that have previously been chosen.  (The invariant condition is that the partial solution plus a solution for the components will always equal a complete solution for the problem.) "
     ]
    },
    {
     "cell_type": "markdown",
     "metadata": {},
     "source": [
      "```\n",
      "# Pseudocode \n",
      "def greedy_search(components, partial_solution=None):\n",
      "    if is_complete(partial_solution):\n",
      "        return partial_solution\n",
      "    else:\n",
      "        best = select_best(components)\n",
      "        return greedy_search(components - best, partial_solution + best)\n",
      "```"
     ]
    },
    {
     "cell_type": "markdown",
     "metadata": {},
     "source": [
      "Searching: Exhaustive Search\n",
      "----\n",
      "\n",
      "An *exhaustive search* considers *every* possible choice of components, and selects the best solution.  On each iteration exhaustive search picks a component (just like greedy search), but then it considers *both* using the component and not using the component. You can see that exhaustive search is almost identical to greedy search, except that it has *two* recursive calls (on lines 7 and 8) instead of *one* (on line 7).  (*If you are viewing this in a iPython notebook, not just a web page, you can toggle line numbers by pressing 'ctrl-M L' within a cell.*) How do we choose between the results of the two calls?  We need a cost function that we are trying to minimize. (For regex golf the cost of a solution is the length of the string.)"
     ]
    },
    {
     "cell_type": "markdown",
     "metadata": {},
     "source": [
      "```\n",
      "# Pseudocode\n",
      "def exhaustive_search(components, partial_solution=None):\n",
      "    if is_complete(partial_solution):\n",
      "        return partial_solution\n",
      "    else:\n",
      "        best = select_best(components)\n",
      "        return min(exhaustive_search(components - best, partial_solution + best),\n",
      "                   exhaustive_search(components - best, partial_solution),\n",
      "                   key=cost)\n",
      "```"
     ]
    },
    {
     "cell_type": "markdown",
     "metadata": {},
     "source": [
      "\n",
      "\n",
      "\n",
      "\n",
      "Here's an interesting piece of trivia: the first thing that this exhaustive search does is a greedy search!  Think about it: on each recursive call, `exhaustive_search` selects the best component, and then calls itself recursively with `best` chosen as part of the partial solution.  It keeps going until it reaches a complete solution.  (That's exactly what greedy search does.)  But then exhaustive search does more.  It also considers all the cases where it *didn't* chose the best component.\n",
      "\n",
      "Here's something else to ponder: why should we bother with selecting the \"best\" component?  If we're going to explore *all* possibilities, wouldn't it be the same if we just selected *any* component, not the \"best\" one?\n",
      "\n",
      "Searching: Computational Complexity of Greedy and Exhaustive Search\n",
      "----\n",
      "\n",
      "Greedy search only considers one path towards the goal of finding a solution. Exhaustive search considers two paths on *every* iteration.  How much work is that all together? If there are *R* regex components, then there are $2^R$ subsets of components. Now, we don't have to consider every one of these subsets, because the search ends when we have a complete solution.  If there are $W$ winners, than an upper bound on the number of combinations we have to consider is the number of ways we can pick $W$ components from a pool of $R$, which is math we write as $R \\choose W$, or ($R$ choose $W$).  For the presidential candidates, we knows that the number of winners, $W$, is 34, and $R$ is 1615.\n",
      "\n",
      "So exhaustive search would have to consider roughly [${1615} \\choose {34}$](https://www.google.com/search?q=1615+choose+34) = $10^{70}$ combinations, which is clearly too many. Don't even think about dogs versus cats, where $W$ = 100 and $R$ = 4570, so [${4570} \\choose {100}$](https://www.google.com/search?q=4570+choose+100) = $10^{207}$. Fortunately, there is another way.\n",
      "\n",
      "Searching: Branch and Bound Search\n",
      "----\n",
      "\n",
      "[*Branch and bound*](http://en.wikipedia.org/wiki/Branch_and_bound) is a search strategy that computes the same result as exhaustive search, but runs faster because it avoids considering many combinations that could not possibly lead to an optimal solution.  Here's how and why it works:\n",
      "\n",
      "- The *branch* part of the name means that, just like exhaustive search, it picks a best component, and considers two branches, one where `best` is part of the solution, and one where it is not.  \n",
      "- The *bound* part of the name means that the algorithm continually keeps track of the lowest-cost solution it has found so far.  This serves as a *bound* on what the optimal solution can be.\n",
      "- The *trick* is to notice that the cost of a partial solution always *increases* as we add more components to it.  Therefore, if we ever get to a partial solution whose cost is more than the lowest-cost solution we have found so far, then we can *immediately* discard the partial solution, and *never consider* all the other combinations that would have come from continuing the partial solution. If there are $M$ components left to consider, that means we just eliminated $2^M$ potential combinations all at once. \"Eliminating potential combinations\" is also called \"pruning the seach tree\"&mdash;\"[pruning](https://www.google.com/search?q=pruning)\" means cutting off unwanted branches.\n",
      "\n",
      "The pseudocode below uses a global variable called `SOLUTION` to hold the lowest-cost solution found so far.  Note that the two branches (two recursive calls in lines 7 and 8) communicate through this global variable.  If the first branch sets `SOLUTION` to an improved solution, then the second branch will see that improved value.  That is why it is important to choose a good \"best\" component first&mdash;it means we are more likely to find a good solution early on, which makes it more likely that we can prune away branches.  "
     ]
    },
    {
     "cell_type": "markdown",
     "metadata": {},
     "source": [
      "```\n",
      "# Pseudocode\n",
      "def branch_and_bound_search(components, partial_solution=None):\n",
      "    if is_complete(partial_solution):\n",
      "        SOLUTION = min(SOLUTION, partial_solution, key=cost)\n",
      "    elif cost(partial_solution) < cost(SOLUTION):\n",
      "        best = select_best(components)\n",
      "        branch_and_bound_search(components - best, partial_solution + best)\n",
      "        branch_and_bound_search(components - best, partial_solution)\n",
      "    else:\n",
      "        pass \n",
      "    return SOLUTION\n",
      "```"
     ]
    },
    {
     "cell_type": "markdown",
     "metadata": {},
     "source": [
      "\n",
      "\n",
      "            \n",
      "\n",
      "        \n",
      "Notice that we don't bother doing the `min` calculation on the results of the two recursive calls.  We know that every time we find a better solution, we will be setting the global variable `SOLUTION`, so we can just `return SOLUTION` at the bottom of the function, without worrying about which branch the solution came from. \n",
      "\n",
      "Searching: Anytime Branch and Bound Search\n",
      "----\n",
      "\n",
      "Even with all this pruning, we still may be presented with problems that require trillions of recursive calls.  [Who's got that kind of time?](http://www.gocomics.com/calvinandhobbes/1995/08/17#.UvSJImSwI8g)  Happily, we know that right at the start the algorithm did the equivalent of a greedy search and set a value for `SOLUTION`, and that from then on the search is continually updating `SOLUTION` whenever it finds a better combination.  So if at any point we stop the search, we always have some solution.  Algorithms that have the property that an answer is always available are called [*anytime algorithms*](http://en.wikipedia.org/wiki/Anytime_algorithm). (Obviously, if you stop the algorithm before it completes you've lost the guarantee of finding the optimal solution.)\n",
      "\n",
      "I can think of two easy ways to allow early stopping.  We could use the [`threading.Timer`](http://docs.python.org/2/library/threading.html#timer-objects) class to set up a thread that will run the search for a given number of seconds, then stop.  Or we could have a counter which gets decremented every time we make a call, and  when it hits zero, we refuse to make any more recursive calls.  I'll take this second approach.\n",
      "\n",
      "Enough pseudocode&mdash;here is a real implementation.  Since global variables are [considered bad style](https://www.google.com/url?sa=t&rct=j&q=&esrc=s&source=web&cd=3&cad=rja&ved=0CE0QygQwAg&url=http%3A%2F%2Fgoogle-styleguide.googlecode.com%2Fsvn%2Ftrunk%2Fpyguide.html%23Global_variables&ei=EMbuUs7_NYryoAScxoLYAQ&usg=AFQjCNFdDzg3Reb6hOjhad-w_-aPBBGQkA&sig2=NO4wX3neFzwoN_Igj0znUg&bvm=bv.60444564,d.cGU), I decided to use a class, `BranchBound`, to hold the lowest-cost solution and the number of calls remaining.  The class provides one method, `search`, which does the work."
     ]
    },
    {
     "cell_type": "code",
     "collapsed": false,
     "input": [
      "def findregex(winners, losers, calls=100000):\n",
      "    \"Find the shortest disjunction of regex components that covers winners but not losers.\"\n",
      "    solution = '^(' + OR(winners) + ')$'\n",
      "    covers = regex_covers(winners, losers)\n",
      "    return BranchBound(solution, calls).search(covers)\n",
      "\n",
      "class BranchBound(object):\n",
      "    \"Hold state information for a branch and bound search.\"\n",
      "    def __init__(self, solution, calls):\n",
      "        self.solution, self.calls = solution, calls\n",
      "    \n",
      "    def search(self, covers, partial=None):\n",
      "        \"\"\"Recursively extend partial regex until it matches all winners in covers.\n",
      "        Try all reasonable combinations until we run out of calls.\"\"\"\n",
      "        if self.calls <= 0: \n",
      "            return self.solution\n",
      "        self.calls -= 1\n",
      "        covers, partial = simplify_covers(covers, partial)\n",
      "        if not covers: # Nothing left to cover; solution is complete\n",
      "            self.solution = min(partial, self.solution, key=len)\n",
      "        elif len(OR(partial, min(covers, key=len))) < len(self.solution):\n",
      "            # Try with and without the greedy-best component\n",
      "            def score(c): return 4 * len(covers[c]) - len(c)\n",
      "            best = max(covers, key=score) # Best component\n",
      "            covered = covers[best] # Set of winners covered by best\n",
      "            covers.pop(best)\n",
      "            self.search({c:covers[c]-covered for c in covers}, OR(partial, best))\n",
      "            self.search(covers, partial)\n",
      "        return self.solution"
     ],
     "language": "python",
     "metadata": {},
     "outputs": [],
     "prompt_number": 30
    },
    {
     "cell_type": "markdown",
     "metadata": {},
     "source": [
      "Simplifying Covers\n",
      "----\n",
      "\n",
      "There's a new function introduced above, `simplify_covers`.  The idea is that you pass it a `covers` dict and optionally a partial regex, and it does a triage process to divide the components in `covers` into three categories:\n",
      "\n",
      "- *Useless components*: could never appear in an optimal solution.\n",
      "- *Necessary components*: must appear in any solution (because no other component covers some winner).\n",
      "- *Remaining components*: neither useless nor necessary.\n",
      "    \n",
      "The necessary components are joined to the partial regex that is passed in, to yield a new partial regex that the function returns.  The useless components are eliminated, and the remaining ones are returned in a new `covers` dict.  \n",
      "\n",
      "`simplify_covers` works by first eliminating useless components, and then selecting necessary components.  We keep repeating this process of eliminating and selecting until there are no more changes to `covers`:"
     ]
    },
    {
     "cell_type": "code",
     "collapsed": false,
     "input": [
      "def simplify_covers(covers, partial=None):\n",
      "    \"Eliminate dominated regexes, and select ones that uniquely cover a winner.\"\n",
      "    previous = None\n",
      "    while covers != previous:\n",
      "        previous = covers\n",
      "        covers = eliminate_dominated(covers)\n",
      "        covers, necessary = select_necessary(covers)\n",
      "        partial = OR(partial, necessary)\n",
      "    return covers, partial"
     ],
     "language": "python",
     "metadata": {},
     "outputs": [],
     "prompt_number": 31
    },
    {
     "cell_type": "markdown",
     "metadata": {},
     "source": [
      "For convenience we modified the function `OR` slightly; we made it work just like the function `max` in that you can call it two ways: either with a single argument, which is a collection of components, or with 2 or more arguments, each a component. We also made it ignore components that are `None`, so that `OR(None, 'a')` equals `'a'`, but `OR('a', 'b')` equals `'a|b'`, as does `OR(['a', 'b'])`"
     ]
    },
    {
     "cell_type": "code",
     "collapsed": false,
     "input": [
      "def OR(*regexes):\n",
      "    \"\"\"OR together component regexes. Ignore 'None' components.\n",
      "    Allows both OR(a, b, c) and OR([a, b, c]), similar to max.\"\"\"\n",
      "    if len(regexes) == 1: \n",
      "        regexes = regexes[0]\n",
      "    return '|'.join(r for r in regexes if r)"
     ],
     "language": "python",
     "metadata": {},
     "outputs": [],
     "prompt_number": 32
    },
    {
     "cell_type": "markdown",
     "metadata": {},
     "source": [
      "Simplifying Covers: Eliminating Dominated Components\n",
      "----\n",
      "\n",
      "We defined the notion of a regex being *dominated* if there is some other regex that is shorter (or at least not longer) and covers a superset of winners. How can we efficiently compute which components are dominated? Here's one simple approach: go through each regex component, `r`, and every time we find one that is not dominated by any another regex component `r2`, add `r` (and its winners) to a new dict that we are building up.  This approach works, but it is $O(n^2)$.\n",
      "\n",
      "Here's an alternative that is faster: First, sort all the regexes so that the ones that match more winners come first (in case of tie, put the shorter ones first).  (In other words, \"best\" first.)   Initialize a new dict to empty, and go through the sorted regexes, `r`, one at a time.  For each `r`, compare it only to the regexes, `r2`, that we have already added to the new dict; if none of them dominate `r`, then add `r`. This is still $O(n^2)$, but if, say, 99 out of 100 regexes are eliminated, we will only need $n^2/100$ comparisons.\n",
      "\n",
      "The code for `eliminate_dominated` is a slight variant on the [version](https://github.com/pochmann/regex-golf) by Stefan Pochmann (because his version turned out to be better than my first version). Note that the function `signature` represents a regex as a pair of numbers, the negative of the number of winners and the length in characters.  The smaller (in lexicographical order) this pair is, the \"better\" the regex is.  Why is it important to put the regexes in sorted order?  So that we know that the only possible dominators are the ones that came *before*, not ones that come after. Note that, as we are going through the component regexes, `r`, in sorted order, if we ever hit an `r` that covers no winners, then we know that all the remianing `r` will also cover no winners (because we're going in best-first order), so we can break out of the loop immediately. And one more thing: in Python the expression `(set2 >= set1)` means \"Is `set2` a superset of `set1`?\", so the expression `covers[r2] >= covers[r]` asks if `r2` covers a superset of the winners that `r` covers.\n",
      "\n"
     ]
    },
    {
     "cell_type": "code",
     "collapsed": false,
     "input": [
      "def eliminate_dominated(covers):\n",
      "    \"\"\"Given a dict of {regex: {winner...}}, make a new dict with only the regexes\n",
      "    that are not dominated by any others. A regex r is dominated by r2 if r2 covers \n",
      "    a superset of the matches covered by r, and r2 is shorter.\"\"\"\n",
      "    newcovers = {}\n",
      "    def signature(r): return (-len(covers[r]), len(r))\n",
      "    for r in sorted(covers, key=signature):\n",
      "        if not covers[r]: break # All remaining r must not cover anything\n",
      "        # r goes in newcache if it is not dominated by any other regex\n",
      "        if not any(covers[r2] >= covers[r] and len(r2) <= len(r) \n",
      "                   for r2 in newcovers):\n",
      "            newcovers[r] = covers[r]\n",
      "    return newcovers"
     ],
     "language": "python",
     "metadata": {},
     "outputs": [],
     "prompt_number": 33
    },
    {
     "cell_type": "markdown",
     "metadata": {},
     "source": [
      "Simplifying Covers: Selecting Necessary Components\n",
      "----\n",
      "\n",
      "If some winner is covered by only one component, then we know that component must be part of the solution.  The function `select_necessary` finds all such components, `OR`s them together, and returns that, along with a dict of the remaining covers, after removing the necessary components (and removing all the winners that are covered by the neccessary components)."
     ]
    },
    {
     "cell_type": "code",
     "collapsed": false,
     "input": [
      "def select_necessary(covers):\n",
      "    \"\"\"Select winners covered by only one component; remove from covers.\n",
      "    Return a pair of (covers, necessary).\"\"\"\n",
      "    counts = Counter(w for r in covers for w in covers[r])\n",
      "    necessary = {r for r in covers if any(counts[w] == 1 for w in covers[r])}\n",
      "    if necessary:\n",
      "        covered = {w for r in necessary for w in covers[r]}\n",
      "        covers = {r:covers[r]-covered for r in covers if r not in necessary}\n",
      "        return covers, OR(necessary)\n",
      "    else:\n",
      "        return covers, None"
     ],
     "language": "python",
     "metadata": {},
     "outputs": [],
     "prompt_number": 34
    },
    {
     "cell_type": "markdown",
     "metadata": {},
     "source": [
      "Testing and Benchmarking: Branch and Bound\n",
      "----\n",
      "\n",
      "Let's make up a test suite (showing some examples of how these functions work).  Then let's see if `findregex` works with the new branch and bound search. "
     ]
    },
    {
     "cell_type": "code",
     "collapsed": false,
     "input": [
      "def test_bb():\n",
      "    assert OR(['a', 'b', 'c']) == OR('a', 'b', 'c') == 'a|b|c'\n",
      "    assert OR(['a|b', 'c|d']) == OR('a|b', 'c|d') == 'a|b|c|d'\n",
      "    assert OR(None, 'c') == 'c'\n",
      "    covers1 = {'a': {'ann', 'abe'}, 'ab': {'abe'}}\n",
      "    assert eliminate_dominated(covers1) == {'a': {'ann', 'abe'}}\n",
      "    assert simplify_covers(covers1) == ({}, 'a')\n",
      "    covers2 = {'a': {'abe', 'cab'}, 'b': {'abe', 'cab', 'bee'}, \n",
      "               'c': {'cab', 'cee'}, 'c.': {'cab', 'cee'}, 'abe': {'abe'},\n",
      "               'ab': {'abe', 'cab'}, '.*b': {'abe', 'cab', 'bee'}, \n",
      "               'e': {'abe', 'bee', 'cee'}, 'f': {}, 'g': {}}\n",
      "    assert eliminate_dominated(covers2) == simplify_covers(covers2)[0] == {\n",
      "        'c': {'cab', 'cee'}, 'b': {'cab', 'abe', 'bee'}, 'e': {'cee', 'abe', 'bee'}}\n",
      "    covers3 = {'1': {'w1'}, '.1': {'w1'}, '2': {'w2'}}\n",
      "    assert eliminate_dominated(covers3) == {'1': {'w1'}, '2': {'w2'}}\n",
      "    assert simplify_covers(covers3) == ({}, '1|2')\n",
      "    assert select_necessary({'a': {'abe'}, 'c': {'cee'}}) == ({}, 'a|c')\n",
      "    assert {0, 1, 2} >= {1, 2}\n",
      "    assert {1, 2} >= {1, 2}\n",
      "    assert not ({1, 2, 4} >= {1, 3})\n",
      "    return 'test_bb passes'\n",
      "\n",
      "test_bb()"
     ],
     "language": "python",
     "metadata": {},
     "outputs": [
      {
       "output_type": "pyout",
       "prompt_number": 35,
       "text": [
        "'test_bb passes'"
       ]
      }
     ],
     "prompt_number": 35
    },
    {
     "cell_type": "markdown",
     "metadata": {},
     "source": [
      "Let's investigate how much the cover simplification process is helping:"
     ]
    },
    {
     "cell_type": "code",
     "collapsed": false,
     "input": [
      "covers = regex_covers(winners, losers)\n",
      "len(covers)"
     ],
     "language": "python",
     "metadata": {},
     "outputs": [
      {
       "output_type": "pyout",
       "prompt_number": 36,
       "text": [
        "1615"
       ]
      }
     ],
     "prompt_number": 36
    },
    {
     "cell_type": "code",
     "collapsed": false,
     "input": [
      "covers2, partial = simplify_covers(covers)\n",
      "len(covers2), partial"
     ],
     "language": "python",
     "metadata": {},
     "outputs": [
      {
       "output_type": "pyout",
       "prompt_number": 37,
       "text": [
        "(49, 'j|po')"
       ]
      }
     ],
     "prompt_number": 37
    },
    {
     "cell_type": "code",
     "collapsed": false,
     "input": [
      "1 - len(covers2)/len(covers)"
     ],
     "language": "python",
     "metadata": {},
     "outputs": [
      {
       "output_type": "pyout",
       "prompt_number": 38,
       "text": [
        "0.9696594427244583"
       ]
      }
     ],
     "prompt_number": 38
    },
    {
     "cell_type": "markdown",
     "metadata": {},
     "source": [
      "We see that `simplify_covers` gives us a 97% reduction in the number of components!  \n",
      "\n",
      "Now let's do complete benchmarks for branch and bound.  I'm going to alter `benchmark` to print the number of calls taken. The easiest way to do that is to have `findregex` return the `BranchBound` object it creates, rather than returning the solution. Since we're changing the signature of `findregex`, I'll give it a new name, `bb_findregex` (for \"branch and bound `findregex`\"). "
     ]
    },
    {
     "cell_type": "code",
     "collapsed": false,
     "input": [
      "def benchmark(data=ALL, calls=10000): \n",
      "    \"Run these data sets; print summaries; return total of solution lengths.\"\n",
      "    total = 0\n",
      "    for (W, Wname, Lname, L) in data:\n",
      "        re.purge()\n",
      "        t0 = time.time()\n",
      "        bb = bb_findregex(W, L, calls)\n",
      "        t1 = time.time()\n",
      "        SOLUTION[W, L] = bb.solution\n",
      "        assert verify(bb.solution, W, L)\n",
      "        print '{:3d} ch {:3d} win {:6.2f} s {:7,d} calls {}-{}: {!r}'.format(\n",
      "            len(bb.solution), len(W), t1-t0, (calls - bb.calls), Wname, Lname, bb.solution)\n",
      "        total += len(bb.solution)\n",
      "    return total\n",
      "\n",
      "def bb_findregex(winners, losers, calls=10000):\n",
      "    \"Find the shortest disjunction of regex components that covers winners but not losers.\"\n",
      "    solution = '^(' + OR(winners) + ')$'\n",
      "    bb = BranchBound(solution, calls)\n",
      "    bb.search(regex_covers(winners, losers))\n",
      "    return bb"
     ],
     "language": "python",
     "metadata": {},
     "outputs": [],
     "prompt_number": 39
    },
    {
     "cell_type": "code",
     "collapsed": false,
     "input": [
      "%time benchmark(calls=1000)"
     ],
     "language": "python",
     "metadata": {},
     "outputs": [
      {
       "output_type": "stream",
       "stream": "stdout",
       "text": [
        " 52 ch  34 win   0.33 s   1,000 calls W-L: 'j|po|a.a|a..i|bu|ma|ix|ho|li|v.l|ls|a.t|ay.|n.e|r.e$'\n",
        " 58 ch  34 win   0.25 s   1,000 calls L-W: 'ss|^ki|^s|x$|^d|go|^.re|ry|hu|cc|o.d|k..$|^.la|ney|oc|d.n$'"
       ]
      },
      {
       "output_type": "stream",
       "stream": "stdout",
       "text": [
        "\n",
        " 11 ch  10 win   0.04 s       7 calls B-G: 'a.$|c|de|as'\n",
        " 10 ch  10 win   0.04 s      13 calls G-B: 'a$|e.i|a.i'"
       ]
      },
      {
       "output_type": "stream",
       "stream": "stdout",
       "text": [
        "\n",
        " 23 ch  12 win   0.05 s       7 calls I-O: 'lt|ch|os|4|pa|sa|e.g|ha'"
       ]
      },
      {
       "output_type": "stream",
       "stream": "stdout",
       "text": [
        "\n",
        " 21 ch  20 win   0.08 s      11 calls O-I: 'j|e.r|ns|y|te|d|m|^.i'"
       ]
      },
      {
       "output_type": "stream",
       "stream": "stdout",
       "text": [
        "\n",
        " 15 ch  10 win   0.05 s       3 calls P-C: 'ge|ir|o.$|x|f|q'\n",
        " 11 ch  10 win   0.05 s      17 calls C-P: 'ri|an|h|a.e'"
       ]
      },
      {
       "output_type": "stream",
       "stream": "stdout",
       "text": [
        "\n",
        "  3 ch  21 win   0.06 s       1 calls F-B: 'f.o'"
       ]
      },
      {
       "output_type": "stream",
       "stream": "stdout",
       "text": [
        "\n",
        " 23 ch  21 win   0.14 s     251 calls B-F: 'k|ld|...n|^i|b|ar|or|la'"
       ]
      },
      {
       "output_type": "stream",
       "stream": "stdout",
       "text": [
        "\n",
        "  9 ch   6 win   0.07 s      25 calls W-T: ' T|B|E..H'"
       ]
      },
      {
       "output_type": "stream",
       "stream": "stdout",
       "text": [
        "\n",
        " 13 ch   9 win   0.09 s       9 calls T-W: 'Y|IS|RA| F|CT'"
       ]
      },
      {
       "output_type": "stream",
       "stream": "stdout",
       "text": [
        "\n",
        "167 ch 100 win   0.45 s   1,000 calls N-A: 'rt$|^wa|jo|me$|m.n|ca|v.l|^h.a|fat|air|o.y|lot|^da|law|rty|^g|wo|s.u|i.y|mb|s.n|hou|id|doo|m$|ey|y.a|ch.|eo|in.$|if|tr|an|ac.$|io|end|rc|ice|are|po|ot.e|s..t|..k$|^.ig'"
       ]
      },
      {
       "output_type": "stream",
       "stream": "stdout",
       "text": [
        "\n",
        "146 ch  98 win   0.41 s     769 calls A-N: 'st$|far|rse|^v|wh|a.l|ui|tha|b.t|u.h|f$|hu|re$|r.t|tl|ns|ard|l.s|lat|ll|s.m|lon|^..$|ver$|ow$|en$|ah|ut$|^to|nl|nc|a.s|a.a|l.e|y..$|i..e|o.n$|^a.o'"
       ]
      },
      {
       "output_type": "stream",
       "stream": "stdout",
       "text": [
        "\n",
        "170 ch 100 win   0.43 s   1,000 calls N-V: '^ar|t.t|gu|h..d|ace|h.ng|ki|.ne|ir|am|er$|.as|^en|m.n|ot|po|law|ye|nt.|^.ar|w.y|es|lev|ho|ud|lt|ht|..or|o.l|j|ic|fr|if|rc|.d.$|t.m|^i|d.y|.on|ci|we|ro..|b..k|ct|m..n|or.$'"
       ]
      },
      {
       "output_type": "stream",
       "stream": "stdout",
       "text": [
        "\n",
        "170 ch  94 win   0.37 s   1,000 calls V-N: 'p.y|tar|a.h$|f$|^fi|ru|at$|nk|rr|nc|r..d|^tr|tc|o.b|it$|wi|hear|lay|b.y|ke|.ed|^u|^s.n|can|sa|unt$|sk|fl|br|v.$|.pe|^..l|in$|^..$|ut$|o.g|s..n|lo..|lea|ur.|w..t|...w|^s.e'"
       ]
      },
      {
       "output_type": "stream",
       "stream": "stdout",
       "text": [
        "\n",
        " 91 ch  64 win   0.42 s   1,000 calls R-B: 'rand|sam|ee|hu|es$|f$|lac|^np|^w|a.._|do|r..l|ia|be|we|c$|o.s|a$|_..i|t.st|Te|o$|mu|if|ch..'"
       ]
      },
      {
       "output_type": "stream",
       "stream": "stdout",
       "text": [
        "\n",
        "134 ch 141 win   0.89 s   1,000 calls B-R: 'set$|w$|it|as|^int|^a|in$|^f.|ir$|id|fe|pr|hr|E|ev|bo|od|a.s|g$|ro|en$|rr|N|co|tr$|li|ct$|rt|u.$|..p$|t.p|up|o.d|e.u|^..x|n.e$|py|c..l'"
       ]
      },
      {
       "output_type": "stream",
       "stream": "stdout",
       "text": [
        "\n",
        " 69 ch 100 win   0.96 s   1,000 calls D-C: '^HAVANESE$|E.S$|O.S$|N.S$|.AS|GS|.HI|RD|AGL|OD|G.S|NS$|.SO|S.F|IES|LT'"
       ]
      },
      {
       "output_type": "stream",
       "stream": "stdout",
       "text": [
        "\n",
        "104 ch  91 win   0.59 s     547 calls C-D: 'AN$|^TH|JAV|Y$|NX|SN|BAL|H$|EX|R$|T$|MES|L$|DW|IX|A$|H F|LI$|M$|FI|N.B|M.I|WN|EO|MAU|KI.$|K..E|^C.A|O..A'"
       ]
      },
      {
       "output_type": "stream",
       "stream": "stdout",
       "text": [
        "\n",
        "CPU times: user 5.78 s, sys: 91.1 ms, total: 5.87 s\n",
        "Wall time: 5.8 s\n"
       ]
      },
      {
       "output_type": "pyout",
       "prompt_number": 40,
       "text": [
        "1300"
       ]
      }
     ],
     "prompt_number": 40
    },
    {
     "cell_type": "markdown",
     "metadata": {},
     "source": [
      "This is encouraging! For 12 of the 20 cases we found the optimal solution (of course, optimal only with respect to the set of regex components we allow so far).  For the other 8 cases we cut off search at 1,000 calls. We took 2 seconds more than greedy search, and reduced the total solution size by 4%."
     ]
    },
    {
     "cell_type": "code",
     "collapsed": false,
     "input": [
      "%time benchmark(calls=10000)"
     ],
     "language": "python",
     "metadata": {},
     "outputs": [
      {
       "output_type": "stream",
       "stream": "stdout",
       "text": [
        " 52 ch  34 win   0.44 s   1,581 calls W-L: 'j|po|a.a|a..i|bu|ma|ix|ho|li|v.l|ls|a.t|ay.|n.e|r.e$'\n",
        " 57 ch  34 win   0.53 s   3,045 calls L-W: 'ss|^ki|^s|x$|i.$|go|^f|de|br|d.l|hu|k.r|e.l|ney|an.o|^.la'"
       ]
      },
      {
       "output_type": "stream",
       "stream": "stdout",
       "text": [
        "\n",
        " 11 ch  10 win   0.04 s       7 calls B-G: 'a.$|c|de|as'\n",
        " 10 ch  10 win   0.04 s      13 calls G-B: 'a$|e.i|a.i'"
       ]
      },
      {
       "output_type": "stream",
       "stream": "stdout",
       "text": [
        "\n",
        " 23 ch  12 win   0.05 s       7 calls I-O: 'lt|ch|os|4|pa|sa|e.g|ha'"
       ]
      },
      {
       "output_type": "stream",
       "stream": "stdout",
       "text": [
        "\n",
        " 21 ch  20 win   0.08 s      11 calls O-I: 'j|e.r|ns|y|te|d|m|^.i'"
       ]
      },
      {
       "output_type": "stream",
       "stream": "stdout",
       "text": [
        "\n",
        " 15 ch  10 win   0.05 s       3 calls P-C: 'ge|ir|o.$|x|f|q'"
       ]
      },
      {
       "output_type": "stream",
       "stream": "stdout",
       "text": [
        "\n",
        " 11 ch  10 win   0.05 s      17 calls C-P: 'ri|an|h|a.e'"
       ]
      },
      {
       "output_type": "stream",
       "stream": "stdout",
       "text": [
        "\n",
        "  3 ch  21 win   0.06 s       1 calls F-B: 'f.o'"
       ]
      },
      {
       "output_type": "stream",
       "stream": "stdout",
       "text": [
        "\n",
        " 23 ch  21 win   0.14 s     251 calls B-F: 'k|ld|...n|^i|b|ar|or|la'"
       ]
      },
      {
       "output_type": "stream",
       "stream": "stdout",
       "text": [
        "\n",
        "  9 ch   6 win   0.07 s      25 calls W-T: ' T|B|E..H'"
       ]
      },
      {
       "output_type": "stream",
       "stream": "stdout",
       "text": [
        "\n",
        " 13 ch   9 win   0.09 s       9 calls T-W: 'Y|IS|RA| F|CT'"
       ]
      },
      {
       "output_type": "stream",
       "stream": "stdout",
       "text": [
        "\n",
        "167 ch 100 win   0.70 s   2,009 calls N-A: 'rt$|^wa|jo|me$|m.n|ca|v.l|^h.a|fat|air|o.y|lot|^da|law|rty|^g|wo|s.u|i.y|mb|s.n|hou|id|doo|m$|ey|y.a|ch.|eo|in.$|if|tr|an|ac.$|io|end|rc|ice|are|po|ot.e|s..t|..k$|^.ig'"
       ]
      },
      {
       "output_type": "stream",
       "stream": "stdout",
       "text": [
        "\n",
        "146 ch  98 win   0.41 s     769 calls A-N: 'st$|far|rse|^v|wh|a.l|ui|tha|b.t|u.h|f$|hu|re$|r.t|tl|ns|ard|l.s|lat|ll|s.m|lon|^..$|ver$|ow$|en$|ah|ut$|^to|nl|nc|a.s|a.a|l.e|y..$|i..e|o.n$|^a.o'"
       ]
      },
      {
       "output_type": "stream",
       "stream": "stdout",
       "text": [
        "\n",
        "169 ch 100 win   1.75 s  10,000 calls N-V: '^ar|t.t|gu|h..d|ace|h.ng|ki|.ne|ir|am|er$|.as|^en|m.n|ot|po|law|ye|nt.|^.ar|w.y|es|lev|ho|ud|lt|ht|do.|or.$|we|t.m|^i|d.y|o.l|j|ic|fr|rc|if|.on|ci|ro..|.d.$|b..k|ct|m..n'"
       ]
      },
      {
       "output_type": "stream",
       "stream": "stdout",
       "text": [
        "\n",
        "170 ch  94 win   0.88 s   3,211 calls V-N: 'p.y|tar|a.h$|f$|^fi|ru|at$|nk|rr|nc|r..d|^tr|tc|o.b|it$|wi|hear|lay|b.y|ke|.ed|^u|^s.n|can|sa|unt$|sk|fl|br|v.$|.pe|^..l|in$|^..$|ut$|o.g|s..n|lo..|lea|ur.|w..t|...w|^s.e'"
       ]
      },
      {
       "output_type": "stream",
       "stream": "stdout",
       "text": [
        "\n",
        " 90 ch  64 win   0.88 s   3,937 calls R-B: 'rand|sam|ee|hu|es$|f$|lac|^np|^w|a.._|do|r..l|ia|be|we|e.m|o$|a$|if|_..i|o..s|_s|q|hl|^.es'"
       ]
      },
      {
       "output_type": "stream",
       "stream": "stdout",
       "text": [
        "\n",
        "133 ch 141 win   3.05 s  10,000 calls B-R: 'set$|w$|it|as|^int|^a|in$|^f.|ir$|id|fe|pr|hr|rr|ev|bo|od|a.s|W|ro|N|l.n|co|li|^o|tr$|rt|u.$|..p$|t.p|up|l.a|e.u|ec|^..x|n.e$|py|^..c'"
       ]
      },
      {
       "output_type": "stream",
       "stream": "stdout",
       "text": [
        "\n",
        " 69 ch 100 win   5.68 s  10,000 calls D-C: '^HAVANESE$|E.S$|O.S$|N.S$|.AS|GS|.HI|RD|AGL|OD|G.S|NS$|.SO|S.F|IES|LT'"
       ]
      },
      {
       "output_type": "stream",
       "stream": "stdout",
       "text": [
        "\n",
        "104 ch  91 win   0.59 s     547 calls C-D: 'AN$|^TH|JAV|Y$|NX|SN|BAL|H$|EX|R$|T$|MES|L$|DW|IX|A$|H F|LI$|M$|FI|N.B|M.I|WN|EO|MAU|KI.$|K..E|^C.A|O..A'"
       ]
      },
      {
       "output_type": "stream",
       "stream": "stdout",
       "text": [
        "\n",
        "CPU times: user 15.6 s, sys: 158 ms, total: 15.7 s\n",
        "Wall time: 15.6 s\n"
       ]
      },
      {
       "output_type": "pyout",
       "prompt_number": 41,
       "text": [
        "1296"
       ]
      }
     ],
     "prompt_number": 41
    },
    {
     "cell_type": "markdown",
     "metadata": {},
     "source": [
      "Now there are only 3 cases left where we are cutting off search before finding the optimal solution."
     ]
    },
    {
     "cell_type": "code",
     "collapsed": false,
     "input": [
      "%time benchmark(calls=100000)"
     ],
     "language": "python",
     "metadata": {},
     "outputs": [
      {
       "output_type": "stream",
       "stream": "stdout",
       "text": [
        " 52 ch  34 win   0.44 s   1,581 calls W-L: 'j|po|a.a|a..i|bu|ma|ix|ho|li|v.l|ls|a.t|ay.|n.e|r.e$'\n",
        " 57 ch  34 win   0.54 s   3,045 calls L-W: 'ss|^ki|^s|x$|i.$|go|^f|de|br|d.l|hu|k.r|e.l|ney|an.o|^.la'"
       ]
      },
      {
       "output_type": "stream",
       "stream": "stdout",
       "text": [
        "\n",
        " 11 ch  10 win   0.04 s       7 calls B-G: 'a.$|c|de|as'\n",
        " 10 ch  10 win   0.04 s      13 calls G-B: 'a$|e.i|a.i'"
       ]
      },
      {
       "output_type": "stream",
       "stream": "stdout",
       "text": [
        "\n",
        " 23 ch  12 win   0.05 s       7 calls I-O: 'lt|ch|os|4|pa|sa|e.g|ha'"
       ]
      },
      {
       "output_type": "stream",
       "stream": "stdout",
       "text": [
        "\n",
        " 21 ch  20 win   0.08 s      11 calls O-I: 'j|e.r|ns|y|te|d|m|^.i'"
       ]
      },
      {
       "output_type": "stream",
       "stream": "stdout",
       "text": [
        "\n",
        " 15 ch  10 win   0.05 s       3 calls P-C: 'ge|ir|o.$|x|f|q'\n",
        " 11 ch  10 win   0.05 s      17 calls C-P: 'ri|an|h|a.e'"
       ]
      },
      {
       "output_type": "stream",
       "stream": "stdout",
       "text": [
        "\n",
        "  3 ch  21 win   0.06 s       1 calls F-B: 'f.o'"
       ]
      },
      {
       "output_type": "stream",
       "stream": "stdout",
       "text": [
        "\n",
        " 23 ch  21 win   0.14 s     251 calls B-F: 'k|ld|...n|^i|b|ar|or|la'"
       ]
      },
      {
       "output_type": "stream",
       "stream": "stdout",
       "text": [
        "\n",
        "  9 ch   6 win   0.07 s      25 calls W-T: ' T|B|E..H'"
       ]
      },
      {
       "output_type": "stream",
       "stream": "stdout",
       "text": [
        "\n",
        " 13 ch   9 win   0.09 s       9 calls T-W: 'Y|IS|RA| F|CT'"
       ]
      },
      {
       "output_type": "stream",
       "stream": "stdout",
       "text": [
        "\n",
        "167 ch 100 win   0.71 s   2,009 calls N-A: 'rt$|^wa|jo|me$|m.n|ca|v.l|^h.a|fat|air|o.y|lot|^da|law|rty|^g|wo|s.u|i.y|mb|s.n|hou|id|doo|m$|ey|y.a|ch.|eo|in.$|if|tr|an|ac.$|io|end|rc|ice|are|po|ot.e|s..t|..k$|^.ig'"
       ]
      },
      {
       "output_type": "stream",
       "stream": "stdout",
       "text": [
        "\n",
        "146 ch  98 win   0.41 s     769 calls A-N: 'st$|far|rse|^v|wh|a.l|ui|tha|b.t|u.h|f$|hu|re$|r.t|tl|ns|ard|l.s|lat|ll|s.m|lon|^..$|ver$|ow$|en$|ah|ut$|^to|nl|nc|a.s|a.a|l.e|y..$|i..e|o.n$|^a.o'"
       ]
      },
      {
       "output_type": "stream",
       "stream": "stdout",
       "text": [
        "\n",
        "167 ch 100 win  19.04 s 100,000 calls N-V: '^ar|t.t|gu|h..d|ace|h.ng|ki|.ne|ir|am|er$|.as|^en|m.n|ot|po|law|ye|nt.|^.ar|w.y|ho|lt|ht|t.m|.on|ci|or.$|we|do.|.d.$|o.l|j|ic|fr|rc|if|lev|^i|d.y|ent|ro..|b..k|ct|m..n'"
       ]
      },
      {
       "output_type": "stream",
       "stream": "stdout",
       "text": [
        "\n",
        "170 ch  94 win   0.88 s   3,211 calls V-N: 'p.y|tar|a.h$|f$|^fi|ru|at$|nk|rr|nc|r..d|^tr|tc|o.b|it$|wi|hear|lay|b.y|ke|.ed|^u|^s.n|can|sa|unt$|sk|fl|br|v.$|.pe|^..l|in$|^..$|ut$|o.g|s..n|lo..|lea|ur.|w..t|...w|^s.e'"
       ]
      },
      {
       "output_type": "stream",
       "stream": "stdout",
       "text": [
        "\n",
        " 90 ch  64 win   0.88 s   3,937 calls R-B: 'rand|sam|ee|hu|es$|f$|lac|^np|^w|a.._|do|r..l|ia|be|we|e.m|o$|a$|if|_..i|o..s|_s|q|hl|^.es'"
       ]
      },
      {
       "output_type": "stream",
       "stream": "stdout",
       "text": [
        "\n",
        "133 ch 141 win   7.29 s  23,703 calls B-R: 'set$|w$|it|as|^int|^a|in$|^f.|ir$|id|fe|pr|hr|rr|ev|bo|od|a.s|W|ro|N|l.n|co|li|^o|tr$|rt|u.$|..p$|t.p|up|l.a|e.u|ec|^..x|n.e$|py|^..c'"
       ]
      },
      {
       "output_type": "stream",
       "stream": "stdout",
       "text": [
        "\n",
        " 69 ch 100 win 111.08 s 100,000 calls D-C: '^HAVANESE$|E.S$|O.S$|N.S$|.AS|GS|.HI|RD|AGL|OD|G.S|NS$|.SO|S.F|IES|LT'"
       ]
      },
      {
       "output_type": "stream",
       "stream": "stdout",
       "text": [
        "\n",
        "104 ch  91 win   0.60 s     547 calls C-D: 'AN$|^TH|JAV|Y$|NX|SN|BAL|H$|EX|R$|T$|MES|L$|DW|IX|A$|H F|LI$|M$|FI|N.B|M.I|WN|EO|MAU|KI.$|K..E|^C.A|O..A'"
       ]
      },
      {
       "output_type": "stream",
       "stream": "stdout",
       "text": [
        "\n",
        "CPU times: user 2min 22s, sys: 583 ms, total: 2min 22s\n",
        "Wall time: 2min 22s\n"
       ]
      },
      {
       "output_type": "pyout",
       "prompt_number": 42,
       "text": [
        "1294"
       ]
      }
     ],
     "prompt_number": 42
    },
    {
     "cell_type": "markdown",
     "metadata": {},
     "source": [
      "Here's a summary of the total size in characters for all the solutions, and the time taken, for each algorithm:\n",
      "\n",
      "<table>\n",
      "<tr><th>Algorithm<th>Size (chars)<th>Time (secs)\n",
      "<tr><td>Greedy<td>1355<td>4 \n",
      "<tr><td>BB(1,000)<td>1300<td>6\n",
      "<tr><td>BB(10,000)<td>1296<td>16\n",
      "<tr><td>BB(100,000)<td>1294<td>142\n",
      "</table>\n",
      "\n",
      "We've reached the optimal solution on all but 2 cases, `N-V` and `D-C`.  It seems like the best path to improvement is not to allow more calls, but rather to sanction additional regex components, hopefully ones that cover more winners in fewer characters.\n",
      "\n",
      "Additional Components: Repetition Characters\n",
      "---\n",
      "\n",
      "Following a suggestion by Stefan Pochmann, I will generate a set of regexes of the form `'A.*B'` where `'A'` and `'B'` are any two characters that appear anywhere in any winner, the dot is always the second character, and the third character can be either `'*'`, `'+'`, or `'?'`. I call these `pairs`. \n",
      "\n",
      "I will also insert a repetition character (`'*'`, `'+'`, or `'?'`) after every character (except `'^'` and `'$'`) in every `part`. For example, given the part `'a.c'`, insert either a `'*'` or a `'+'` or a `'?'` after each of the three characters, to get nine new components: `{'a+.c', 'a*.c', 'a?.c', 'a.c+', 'a.*c', 'a.?c', 'a.+c', 'a.c*', 'a.c?'}`.  I call these new components `reps`.  \n",
      "\n",
      "Here is a new version of `regex_covers` that adds the new parts (in the sets `pairs` and `reps` in lines 8-10):"
     ]
    },
    {
     "cell_type": "code",
     "collapsed": false,
     "input": [
      "def regex_covers(winners, losers):\n",
      "    \"\"\"Generate regex components and return a dict of {regex: {winner...}}.\n",
      "    Each regex matches at least one winner and no loser.\"\"\"\n",
      "    losers_str = '\\n'.join(losers)\n",
      "    wholes = {'^'+winner+'$' for winner in winners}\n",
      "    parts = {d for w in wholes for p in subparts(w) for d in dotify(p)}\n",
      "    chars = set(cat(winners))\n",
      "    pairs = {A+'.'+q+B for A in chars for B in chars for q in rep_chars}\n",
      "    reps = {r for p in parts for r in repetitions(p)}\n",
      "    pool = wholes | parts | pairs | reps                         \n",
      "    searchers = [re.compile(c, re.MULTILINE).search for c in pool]\n",
      "    return {r: set(filter(searcher, winners)) \n",
      "            for (r, searcher) in zip(pool, searchers)\n",
      "            if not searcher(losers_str)}\n",
      "\n",
      "def repetitions(part):\n",
      "    \"\"\"Return a set of strings derived by inserting a single repetition character ('+' or '*' or '?') \n",
      "    after each non-special character.  Avoid redundant repetition of dots.\"\"\"\n",
      "    splits = [(part[:i], part[i:]) for i in range(1, len(part)+1)]\n",
      "    return {A + q + B \n",
      "            for (A, B) in splits\n",
      "            # Don't allow '^*' nor '$*' nor '..*' nor '.*.'\n",
      "            if not (A[-1] in '^$')\n",
      "            if not A.endswith('..')\n",
      "            if not (A.endswith('.') and B.startswith('.'))\n",
      "            for q in rep_chars}\n",
      "\n",
      "rep_chars = ('*', '+', '?')"
     ],
     "language": "python",
     "metadata": {},
     "outputs": [],
     "prompt_number": 43
    },
    {
     "cell_type": "code",
     "collapsed": false,
     "input": [
      "def test_rep():\n",
      "    assert repetitions('a') == {'a+', 'a*', 'a?'}\n",
      "    assert repetitions('ab') == {'a+b', 'a*b', 'a?b', \n",
      "                                 'ab+', 'ab*', 'ab?'}\n",
      "    assert repetitions('a.c') == {'a+.c', 'a*.c', 'a?.c',\n",
      "                                  'a.c+', 'a.*c', 'a.?c',\n",
      "                                  'a.+c', 'a.c*', 'a.c?'}\n",
      "    assert repetitions('^a..d$') == {'^a+..d$', '^a*..d$', '^a?..d$', \n",
      "                                     '^a..d+$', '^a..d*$', '^a..d?$'}\n",
      "    assert (eliminate_dominated(regex_covers(\n",
      "           {'one', 'on'}, {'won', 'wuan', 'juan'}))\n",
      "           == {'e': {'one'}, '^o': {'on', 'one'}})\n",
      "    return 'test_rep passes'\n",
      "\n",
      "test_rep()"
     ],
     "language": "python",
     "metadata": {},
     "outputs": [
      {
       "output_type": "pyout",
       "prompt_number": 44,
       "text": [
        "'test_rep passes'"
       ]
      }
     ],
     "prompt_number": 44
    },
    {
     "cell_type": "markdown",
     "metadata": {},
     "source": [
      "Let's take our new components out for a spin and see what they can do:"
     ]
    },
    {
     "cell_type": "code",
     "collapsed": false,
     "input": [
      "findregex(starwars, startrek)"
     ],
     "language": "python",
     "metadata": {},
     "outputs": [
      {
       "output_type": "pyout",
       "prompt_number": 45,
       "text": [
        "' T|P.*E'"
       ]
      }
     ],
     "prompt_number": 45
    },
    {
     "cell_type": "markdown",
     "metadata": {},
     "source": [
      "That's pretty cool.  Remember, Randall had a 10 character regex in the strip (see below); we previously got it down to 9, but we now have it down to 7 with `' T|P.*E'`, thanks to the `'P.*E'` pair.\n",
      "\n",
      "<img src=\"http://norvig.com/regex_golf1.PNG\">\n",
      "\n",
      "How much more work are we doing with these additional components?  Before, `regex_covers(winners, losers)` gave 1615 regexes, which were reduced to 49 by `simplify_covers`.  Now:"
     ]
    },
    {
     "cell_type": "code",
     "collapsed": false,
     "input": [
      "covers = regex_covers(winners, losers)\n",
      "len(covers)"
     ],
     "language": "python",
     "metadata": {},
     "outputs": [
      {
       "output_type": "pyout",
       "prompt_number": 46,
       "text": [
        "13200"
       ]
      }
     ],
     "prompt_number": 46
    },
    {
     "cell_type": "code",
     "collapsed": false,
     "input": [
      "covers, partial = simplify_covers(covers)\n",
      "len(covers)"
     ],
     "language": "python",
     "metadata": {},
     "outputs": [
      {
       "output_type": "pyout",
       "prompt_number": 47,
       "text": [
        "90"
       ]
      }
     ],
     "prompt_number": 47
    },
    {
     "cell_type": "markdown",
     "metadata": {},
     "source": [
      "So the total number of regexes is increased almost 10-fold, but after simplification the number is only  double what it was before.  (To put it another way, `simplify_covers` eliminated 99.3% of the components.) That's not too bad; let's add *more* components.\n",
      "\n",
      "Additional Components: Longer Parts\n",
      "----\n",
      "\n",
      "Previously we generated regex component parts of length up to 4 characters.  Why not say \"[we're doing 5](http://www.theonion.com/articles/fuck-everything-were-doing-five-blades,11056/)\"?  The implementation is easy:\n",
      "\n"
     ]
    },
    {
     "cell_type": "code",
     "collapsed": false,
     "input": [
      "subpart_size = 5\n",
      "\n",
      "def subparts(word):\n",
      "    \"Return a set of subparts of word, consecutive characters up to length 5.\"\n",
      "    return set(word[i:i+1+s] for i in range(len(word)) for s in range(subpart_size)) "
     ],
     "language": "python",
     "metadata": {},
     "outputs": [],
     "prompt_number": 48
    },
    {
     "cell_type": "markdown",
     "metadata": {},
     "source": [
      "But how many more regex components does this give us?"
     ]
    },
    {
     "cell_type": "code",
     "collapsed": false,
     "input": [
      "covers = regex_covers(winners, losers)\n",
      "len(covers)"
     ],
     "language": "python",
     "metadata": {},
     "outputs": [
      {
       "output_type": "pyout",
       "prompt_number": 49,
       "text": [
        "39537"
       ]
      }
     ],
     "prompt_number": 49
    },
    {
     "cell_type": "code",
     "collapsed": false,
     "input": [
      "covers, partial = simplify_covers(covers)\n",
      "len(covers)"
     ],
     "language": "python",
     "metadata": {},
     "outputs": [
      {
       "output_type": "pyout",
       "prompt_number": 50,
       "text": [
        "112"
       ]
      }
     ],
     "prompt_number": 50
    },
    {
     "cell_type": "markdown",
     "metadata": {},
     "source": [
      "In the end the longer parts add only 22 new components, and let's hope they are useful ones (because we had to sort through nearly 40,000 components and eliminate 99.7% of them). It is time to benchmark again:"
     ]
    },
    {
     "cell_type": "code",
     "collapsed": true,
     "input": [
      "%time benchmark(calls=1000)"
     ],
     "language": "python",
     "metadata": {},
     "outputs": [
      {
       "output_type": "stream",
       "stream": "stdout",
       "text": [
        " 47 ch  34 win   5.66 s   1,000 calls W-L: 'i.*o|o.*o|a.a|po|a.t|j|bu|di|ay.|ma|n.e|ie.|vel'\n",
        " 58 ch  34 win   4.98 s   1,000 calls L-W: 'r.*y|i.h?$|^s|go|d..e|^f|^.?la|k.*g|hu|n.+k|pa|ss|ox|cc|de'"
       ]
      },
      {
       "output_type": "stream",
       "stream": "stdout",
       "text": [
        "\n",
        " 11 ch  10 win   1.20 s      25 calls B-G: 'a.$|c|de|as'"
       ]
      },
      {
       "output_type": "stream",
       "stream": "stdout",
       "text": [
        "\n",
        "  9 ch  10 win   1.29 s      23 calls G-B: 'a$|^m*..i'"
       ]
      },
      {
       "output_type": "stream",
       "stream": "stdout",
       "text": [
        "\n",
        " 22 ch  12 win   2.03 s     369 calls I-O: '4|pa|lt|ch|e.g|os|s.?a'"
       ]
      },
      {
       "output_type": "stream",
       "stream": "stdout",
       "text": [
        "\n",
        " 19 ch  20 win   3.13 s     557 calls O-I: 'ns|^.i|e.+r|y|j|d|m'"
       ]
      },
      {
       "output_type": "stream",
       "stream": "stdout",
       "text": [
        "\n",
        " 15 ch  10 win   1.68 s      83 calls P-C: 'o.$|x|ir|q|b|ep'"
       ]
      },
      {
       "output_type": "stream",
       "stream": "stdout",
       "text": [
        "\n",
        " 11 ch  10 win   1.86 s      45 calls C-P: 'ri|a.+e|h|k'"
       ]
      },
      {
       "output_type": "stream",
       "stream": "stdout",
       "text": [
        "\n",
        "  3 ch  21 win   2.34 s       1 calls F-B: 'foo'"
       ]
      },
      {
       "output_type": "stream",
       "stream": "stdout",
       "text": [
        "\n",
        " 23 ch  21 win   3.24 s   1,000 calls B-F: '^...a|k|...n|ld|b|ar|or'"
       ]
      },
      {
       "output_type": "stream",
       "stream": "stdout",
       "text": [
        "\n",
        "  7 ch   6 win   3.21 s      23 calls W-T: ' T|P.*E'"
       ]
      },
      {
       "output_type": "stream",
       "stream": "stdout",
       "text": [
        "\n",
        " 12 ch   9 win   4.25 s     175 calls T-W: 'I.?S|TI|H |Y'"
       ]
      },
      {
       "output_type": "stream",
       "stream": "stdout",
       "text": [
        "\n",
        "163 ch 100 win   9.79 s   1,000 calls N-A: 'l.v|^wa|m.+n|me?$|.i.*d|....o|a.*c.$|.o..e|wo|^g|ir$|s.u|ch*a|i.y|lo?t|in.$|an|aw*$|o.y|y.a|fe|tr|rt.?$|^..m?b|^..g?h|bu|ice|f.t|o.r$|..k$|p..e|^d*.y|..a.*e|^.?e.d'"
       ]
      },
      {
       "output_type": "stream",
       "stream": "stdout",
       "text": [
        "\n",
        "136 ch  98 win   9.40 s   1,000 calls A-N: 'e.+y|^..l*$|l.*s|rs*e$|a.l|ei*t|st$|en$|far|ver$|^a.o|i..l|u.h|lat|yb|b.t|a.*a.|^to|^l?on|ll|ow$|ard|n.+d|o.n$|wh|^o..$|ui|hu|hap*.$|r.t'"
       ]
      },
      {
       "output_type": "stream",
       "stream": "stdout",
       "text": [
        "\n",
        "167 ch 100 win  10.04 s   1,000 calls N-V: 'h.*g|mp*.n|p.*r|..h.|mb*e|ea*s|^k?i|.ne|or.?$|f.*c|fe|^.?ar|.as|way|da?y|h.*d|c.*t.|^en|ir|am|fr|ou.e*$|gu|o.m|ye|em|rl|po|.r.i|b..k|p.+e|lev|j|.t.+e|lt|id|w.*e.|^l..$'"
       ]
      },
      {
       "output_type": "stream",
       "stream": "stdout",
       "text": [
        "\n",
        "159 ch  94 win   6.57 s   1,000 calls V-N: 'mb$|tar|rr|^..p*l|^s*..$|b.y|f$|as*k|read|ve$|s..n|^s.n|..i.$|nk|^fi|un?t$|^t.?r|.pe|o.g|lo..|ke|^.a.c|eed|^r?u|^.le|c.n|...w|wr|br|ea..$|pl?.y|fl|an?t$|^he*.r'"
       ]
      },
      {
       "output_type": "stream",
       "stream": "stdout",
       "text": [
        "\n",
        " 88 ch  64 win  12.50 s   1,000 calls R-B: 'nd*o|a.._|do|g.+m|f.?$|np$|rand|s...$|est?$|_.*s|e_|ei|be|are|if|hu|u.a|po.e|hl|^w|am?pl'"
       ]
      },
      {
       "output_type": "stream",
       "stream": "stdout",
       "text": [
        "\n",
        "106 ch 141 win  28.58 s   1,000 calls B-R: 'E|^...$|ge*$|o.*d|a.?s|^c?o|bo|^f.|a.t|po?r|u.?e|id|t.i*p|N|^i.*t|li|he|ev|r.*w|de|xt|b.*r|ic*t|hr|ec|^c?a'"
       ]
      },
      {
       "output_type": "stream",
       "stream": "stdout",
       "text": [
        "\n",
        " 43 ch 100 win  34.11 s   1,000 calls D-C: 'E.+S$|I.*S$|H.+N.S|.HI|G.?S|.SO|W |TES|O.D.'"
       ]
      },
      {
       "output_type": "stream",
       "stream": "stdout",
       "text": [
        "\n",
        "104 ch  91 win  24.49 s   1,000 calls C-D: 'J.V|RA?$|R.*A.$|LD*$|N.*X|M$|M...$|E.*O.$|T$|AN?$|S.+E$|A. *B|Y$|N.*KIN|R.G|DW|EU?X|O..A|B.L.N|T.+A.$|H$'"
       ]
      },
      {
       "output_type": "stream",
       "stream": "stdout",
       "text": [
        "\n",
        "CPU times: user 2min 49s, sys: 2.86 s, total: 2min 52s\n",
        "Wall time: 2min 50s\n"
       ]
      },
      {
       "output_type": "pyout",
       "prompt_number": 51,
       "text": [
        "1203"
       ]
      }
     ],
     "prompt_number": 51
    },
    {
     "cell_type": "markdown",
     "metadata": {},
     "source": [
      "This is a big improvement! 1,000 calls with the additional components takes about the same amount of time as 100,000 calls with the smaller set of components, and reduces the total solution length from 1294 to 1203, a 7% reduction.  And notice we no longer need `'^HAVANESE$'`; instead we have `'H.+N.S'`, which saves 4 characters, and, look how many breeds it matches:"
     ]
    },
    {
     "cell_type": "code",
     "collapsed": false,
     "input": [
      "print matches('H.+N.S', dogs)"
     ],
     "language": "python",
     "metadata": {},
     "outputs": [
      {
       "output_type": "stream",
       "stream": "stdout",
       "text": [
        "set(['CHINESE CRESTED', 'BASSET HOUNDS', 'AFGHAN HOUNDS', 'DACHSHUNDS', 'TREEING WALKER COONHOUNDS', 'CHINESE SHAR-PEI', 'IRISH WOLFHOUNDS', 'BLOODHOUNDS', 'ITALIAN GREYHOUNDS', 'HAVANESE'])\n"
       ]
      }
     ],
     "prompt_number": 52
    },
    {
     "cell_type": "markdown",
     "metadata": {},
     "source": [
      "Let's continue benchmarking:"
     ]
    },
    {
     "cell_type": "code",
     "collapsed": false,
     "input": [
      "%time benchmark(calls=10000)"
     ],
     "language": "python",
     "metadata": {},
     "outputs": [
      {
       "output_type": "stream",
       "stream": "stdout",
       "text": [
        " 46 ch  34 win   7.27 s  10,000 calls W-L: 'i.*o|o.*o|bu|a.t|j|ma|po|ay.|n.e|ie.|ar*d|el?a'\n",
        " 57 ch  34 win   6.04 s  10,000 calls L-W: 'r.*y|i.h?$|^s|go|do|de|^f|k.*g|hu|m.+a|^.la|n.+k|pa|ss|ox'"
       ]
      },
      {
       "output_type": "stream",
       "stream": "stdout",
       "text": [
        "\n",
        " 11 ch  10 win   1.23 s      25 calls B-G: 'a.$|c|de|as'"
       ]
      },
      {
       "output_type": "stream",
       "stream": "stdout",
       "text": [
        "\n",
        "  9 ch  10 win   1.30 s      23 calls G-B: 'a$|^m*..i'"
       ]
      },
      {
       "output_type": "stream",
       "stream": "stdout",
       "text": [
        "\n",
        " 22 ch  12 win   1.97 s     369 calls I-O: '4|pa|lt|ch|e.g|os|s.?a'"
       ]
      },
      {
       "output_type": "stream",
       "stream": "stdout",
       "text": [
        "\n",
        " 19 ch  20 win   3.16 s     557 calls O-I: 'ns|^.i|e.+r|y|j|d|m'"
       ]
      },
      {
       "output_type": "stream",
       "stream": "stdout",
       "text": [
        "\n",
        " 15 ch  10 win   1.69 s      83 calls P-C: 'o.$|x|ir|q|b|ep'"
       ]
      },
      {
       "output_type": "stream",
       "stream": "stdout",
       "text": [
        "\n",
        " 11 ch  10 win   1.87 s      45 calls C-P: 'ri|a.+e|h|k'"
       ]
      },
      {
       "output_type": "stream",
       "stream": "stdout",
       "text": [
        "\n",
        "  3 ch  21 win   2.33 s       1 calls F-B: 'foo'"
       ]
      },
      {
       "output_type": "stream",
       "stream": "stdout",
       "text": [
        "\n",
        " 23 ch  21 win   4.10 s   4,983 calls B-F: 'k|...n|ar|ld|^i|or|la|b'"
       ]
      },
      {
       "output_type": "stream",
       "stream": "stdout",
       "text": [
        "\n",
        "  7 ch   6 win   3.21 s      23 calls W-T: ' T|P.*E'"
       ]
      },
      {
       "output_type": "stream",
       "stream": "stdout",
       "text": [
        "\n",
        " 12 ch   9 win   4.21 s     175 calls T-W: 'I.?S|TI|H |Y'"
       ]
      },
      {
       "output_type": "stream",
       "stream": "stdout",
       "text": [
        "\n",
        "162 ch 100 win  11.02 s  10,000 calls N-A: 'l.v|^wa|m.+n|me?$|.i.*d|....o|a.*c.$|.o..e|wo|^g|ir$|s.u|ch*a|i.y|lo?t|in.$|an|aw*$|o.y|y.a|fe|tr|rt.?$|b$|mb|^..g?h|bu|ice|f.t|o.r$|..k$|p..e|^d*.y|..a.*e|^.?e.d'"
       ]
      },
      {
       "output_type": "stream",
       "stream": "stdout",
       "text": [
        "\n",
        "136 ch  98 win  10.68 s  10,000 calls A-N: 'e.+y|^..l*$|l.*s|rs*e$|a.l|ei*t|st$|en$|far|ver$|^a.o|i..l|u.h|lat|yb|b.t|^l?on|ll|^to|..ea*d|ard|a.a|ow$|o.n$|wh|^o..$|ui|hu|hap*.$|r.t'"
       ]
      },
      {
       "output_type": "stream",
       "stream": "stdout",
       "text": [
        "\n",
        "164 ch 100 win  11.22 s  10,000 calls N-V: 'h.*g|mp*.n|p.*r|..h.|mb*e|ea*s|^k?i|.ne|or.?$|f.*c|fe|^.?ar|.as|way|da?y|h.*d|c.*t.|^en|ir|am|fr|ye|em|ho|rl|po|ro..|gu|.r.i|b..k|p.+e|lev|j|.t.+e|lt|id|w.*e.|^l..$'"
       ]
      },
      {
       "output_type": "stream",
       "stream": "stdout",
       "text": [
        "\n",
        "158 ch  94 win   7.77 s  10,000 calls V-N: 'mb$|tar|rr|^..p*l|^s*..$|b.y|f$|as*k|read|ve$|s..n|^s.n|..i.$|nk|^fi|un?t$|^t.?r|.pe|o.g|lo..|ke|nc|eed|^r?u|^.le|c.n|...w|w..t|br|^l*ea|pl?.y|fl|t.+h$|^he*.r'"
       ]
      },
      {
       "output_type": "stream",
       "stream": "stdout",
       "text": [
        "\n",
        " 88 ch  64 win  13.69 s  10,000 calls R-B: 'nd*o|a.._|do|g.+m|f.?$|np$|rand|s...$|es$|t.st|ei|be|are|if|hu|u.a|_.*l|po.e|hl|^w|am?pl'"
       ]
      },
      {
       "output_type": "stream",
       "stream": "stdout",
       "text": [
        "\n",
        "106 ch 141 win  29.97 s  10,000 calls B-R: 'E|^...$|ge*$|o.*d|a.?s|^c?o|bo|^f.|a.t|po?r|u.?e|id|t.i*p|N|^i.*t|li|he|ev|r.*w|de|xt|b.*r|ic*t|hr|ec|^c?a'"
       ]
      },
      {
       "output_type": "stream",
       "stream": "stdout",
       "text": [
        "\n",
        " 43 ch 100 win  36.06 s  10,000 calls D-C: 'E.+S$|I.*S$|H.+N.S|.HI|G.?S|.SO|W |TES|O.D.'"
       ]
      },
      {
       "output_type": "stream",
       "stream": "stdout",
       "text": [
        "\n",
        "104 ch  91 win  25.44 s  10,000 calls C-D: 'J.V|RA?$|R.*A.$|LD*$|N.*X|M$|M...$|E.*O.$|T$|AN?$|S.+E$|Y$|N.*KIN|A.B|N.B|BAL|R.G|DW|EU?X|O..A|T.+A.$|H$'"
       ]
      },
      {
       "output_type": "stream",
       "stream": "stdout",
       "text": [
        "\n",
        "CPU times: user 3min 3s, sys: 3.24 s, total: 3min 6s\n",
        "Wall time: 3min 4s\n"
       ]
      },
      {
       "output_type": "pyout",
       "prompt_number": 53,
       "text": [
        "1196"
       ]
      }
     ],
     "prompt_number": 53
    },
    {
     "cell_type": "code",
     "collapsed": false,
     "input": [
      "%time benchmark(calls=100000)"
     ],
     "language": "python",
     "metadata": {},
     "outputs": [
      {
       "output_type": "stream",
       "stream": "stdout",
       "text": [
        " 46 ch  34 win  29.70 s 100,000 calls W-L: 'i.*o|j|bu|oo|a.t|nr?.e|ma|po|ay.|ie.|ar*d|el?a'\n",
        " 57 ch  34 win  19.98 s 100,000 calls L-W: 'r.*y|i.h?$|^s|go|do|de|^f|k.*g|hu|m.+a|^.la|n.+k|pa|ss|ox'"
       ]
      },
      {
       "output_type": "stream",
       "stream": "stdout",
       "text": [
        "\n",
        " 11 ch  10 win   1.23 s      25 calls B-G: 'a.$|c|de|as'"
       ]
      },
      {
       "output_type": "stream",
       "stream": "stdout",
       "text": [
        "\n",
        "  9 ch  10 win   1.30 s      23 calls G-B: 'a$|^m*..i'"
       ]
      },
      {
       "output_type": "stream",
       "stream": "stdout",
       "text": [
        "\n",
        " 22 ch  12 win   1.97 s     369 calls I-O: '4|pa|lt|ch|e.g|os|s.?a'"
       ]
      },
      {
       "output_type": "stream",
       "stream": "stdout",
       "text": [
        "\n",
        " 19 ch  20 win   3.15 s     557 calls O-I: 'ns|^.i|e.+r|y|j|d|m'"
       ]
      },
      {
       "output_type": "stream",
       "stream": "stdout",
       "text": [
        "\n",
        " 15 ch  10 win   1.70 s      83 calls P-C: 'o.$|x|ir|q|b|ep'"
       ]
      },
      {
       "output_type": "stream",
       "stream": "stdout",
       "text": [
        "\n",
        " 11 ch  10 win   1.88 s      45 calls C-P: 'ri|a.+e|h|k'"
       ]
      },
      {
       "output_type": "stream",
       "stream": "stdout",
       "text": [
        "\n",
        "  3 ch  21 win   2.32 s       1 calls F-B: 'foo'"
       ]
      },
      {
       "output_type": "stream",
       "stream": "stdout",
       "text": [
        "\n",
        " 23 ch  21 win   4.11 s   4,983 calls B-F: 'k|...n|ar|ld|^i|or|la|b'"
       ]
      },
      {
       "output_type": "stream",
       "stream": "stdout",
       "text": [
        "\n",
        "  7 ch   6 win   3.22 s      23 calls W-T: ' T|P.*E'"
       ]
      },
      {
       "output_type": "stream",
       "stream": "stdout",
       "text": [
        "\n",
        " 12 ch   9 win   4.22 s     175 calls T-W: 'I.?S|TI|H |Y'"
       ]
      },
      {
       "output_type": "stream",
       "stream": "stdout",
       "text": [
        "\n",
        "161 ch 100 win  23.42 s 100,000 calls N-A: 'l.v|^wa|m.+n|me?$|.i.*d|....o|a.*c.$|.o..e|wo|^g|ir$|s.u|ch*a|i.y|lo?t|aw*$|o.y|y.a|rt.?$|b$|mb|ow*.r$|^..g?h|ice|f.t|ine|fe|nt$|tr|h.n.|..k$|^d*.y|..a.*e|^.?e.d'"
       ]
      },
      {
       "output_type": "stream",
       "stream": "stdout",
       "text": [
        "\n",
        "135 ch  98 win  24.42 s 100,000 calls A-N: 'e.+y|^..l*$|l.*s|rs*e$|a.l|ei*t|st$|en$|far|ver$|^a.o|^l?on|..ea*d|ui|u.h|^to|b.t|ard|a.a|ow$|o.n$|wh|l.t.|yb|^o..$|s...l|hu|hap*.$|r.t'"
       ]
      },
      {
       "output_type": "stream",
       "stream": "stdout",
       "text": [
        "\n",
        "163 ch 100 win  24.16 s 100,000 calls N-V: 'h.*g|mp*.n|p.*r|..h.|mb*e|ea*s|^k?i|.ne|or.?$|f.*c|fe|^.?ar|.as|way|da?y|h.*d|c.*t.|^en|a.+r|we|am|fr|rl|ye|em|ho|po|ro..|gu|.r.i|b..k|p.+e|lev|j|.t.+e|lt|id|^l..$'"
       ]
      },
      {
       "output_type": "stream",
       "stream": "stdout",
       "text": [
        "\n",
        "158 ch  94 win  22.90 s 100,000 calls V-N: 'mb$|tar|rr|^..p*l|^s*..$|b.y|f$|as*k|read|ve$|s..n|^s.n|..i.$|nk|^fi|un?t$|^t.?r|.pe|o.g|lo..|ke|nc|eed|^r?u|^.le|c.n|...w|w..t|br|^l*ea|pl?.y|fl|t.+h$|^he*.r'"
       ]
      },
      {
       "output_type": "stream",
       "stream": "stdout",
       "text": [
        "\n",
        " 88 ch  64 win  28.71 s 100,000 calls R-B: 'nd*o|a.._|do|g.+m|f.?$|np$|s...$|^.a.d|es$|t.st|ei|be|ia|are|we|if|hl|hu|mu?t|_.*l|am?pl'"
       ]
      },
      {
       "output_type": "stream",
       "stream": "stdout",
       "text": [
        "\n",
        "105 ch 141 win  46.55 s 100,000 calls B-R: 'E|^...$|ge*$|o.*d|a.?s|^c?o|bo|^f.|a.t|po?r|u.?e|id|li|t.p|N|e.*y|fe|he|ic*t|hr|rn|pu|de|ev|ec|^c?a|si|xt'"
       ]
      },
      {
       "output_type": "stream",
       "stream": "stdout",
       "text": [
        "\n",
        " 43 ch 100 win  66.20 s 100,000 calls D-C: 'E.+S$|I.*S$|H.+N.S|.HI|G.?S|.SO|W |TES|O.D.'"
       ]
      },
      {
       "output_type": "stream",
       "stream": "stdout",
       "text": [
        "\n",
        "103 ch  91 win  37.40 s 100,000 calls C-D: 'J.V|RA?$|R.*A.$|LD*$|N.*X|M$|M...$|E.*O.$|T$|AN?$|O.*E$|AZ|Y$|US+I|A.B|R.G|DW|K.N$|EU?X|B.L.N|T.+A.$|H$'"
       ]
      },
      {
       "output_type": "stream",
       "stream": "stdout",
       "text": [
        "\n",
        "CPU times: user 5min 47s, sys: 3.69 s, total: 5min 51s\n",
        "Wall time: 5min 48s\n"
       ]
      },
      {
       "output_type": "pyout",
       "prompt_number": 54,
       "text": [
        "1191"
       ]
      }
     ],
     "prompt_number": 54
    },
    {
     "cell_type": "markdown",
     "metadata": {},
     "source": [
      "Here is the updated summary:\n",
      "\n",
      "<table>\n",
      "<tr<th><th><th colspan=2>parts@4<th colspan=2>parts@5, reps, pairs\n",
      "<tr><th>Algorithm<th>Size (chars)<th>Time (secs)<th>Size (chars)<th>Time (secs)\n",
      "<tr><td>Greedy<td>1355<td>4<td><td>\n",
      "<tr><td>BB(1,000)<td>1300<td>6<td>1203<td>170\n",
      "<tr><td>BB(10,000)<td>1296<td>16<td>1196<td>184\n",
      "<tr><td>BB(100,000)<td>1294<td>142<td>1191<td>348\n",
      "</table>\n",
      "\n",
      "We're making good progress; 1191 characters is a 12% improvement over the 1355 we started with. (On the other hand, it takes almost 100 times longer.)\n",
      "\n",
      "What next?  Add more components? Actually, now I'm more concerned about searching than about components.  Let me explain.  In the previous benchmark, with fewer components, 100,000 calls were enough to complete the search on all but two cases, so we knew we had the optimal answer given the components, and the only place to go was to add more components. \n",
      "\n",
      "With `subpart_size = 5`, we have so many additional components that `benchmark(calls=100000)` only completes the search half the time.  Suppose one of our first choices was wrong, and the search took a component that does not belong in an optimal solution.  We might well spend all 100,000 calls on the half of the search tree that keeps the component, never exploring a part of the tree without it.  We need to alter the search algorithm to get us out of that rut.\n",
      "\n",
      "Searching: Random restart\n",
      "----\n",
      "\n",
      "One option is to run the search for a while, then stop it, and run a different search, and hope it explores a different part of the search space. This is called a *random restart search*. How do we get a *different* search when we restart? I can think of two easy things to vary:\n",
      "    \n",
      "+ The '4' in the `score` function. That is, vary the tradeoff between number of winners matched and number of characters in a regex.\n",
      "+ The tie-breaker. In case of a tie on `max(covers, key=score)`, Python always picks the first component. Let's make it choose a different one each time.\n",
      "\n",
      "The first of these is easy; we can use the `random.choice` function to choose an integer, K, to serve as the tradeoff factor. The second is easy too. We could write an alternative to the `max` function, say `max_random_tiebreaker`. That would work, but an easier approach is to build the tiebreaker into the `score` function. In addition to awarding points for matching winners, and subtracting a point for each characters in the component, we will have `score` add in a random number. We'll call this the \"fudge factor\" and use the variable `F` to determine how big it is.  If the fudge factor is a random number between 0 and 1, then all it does is serve as a tiebreaker.  But if it is a random number that can be larger than 1, then sometimes it will cause `max` to pick a winner that does not have quite the best score.  We're not sure how much randomness is best, so we'll let the values of `K` and `F` vary from one choice to the next."
     ]
    },
    {
     "cell_type": "code",
     "collapsed": false,
     "input": [
      "import random\n",
      "\n",
      "def bb_findregex(winners, losers, calls=10000, restarts=10):\n",
      "    \"Find the shortest disjunction of regex components that covers winners but not losers.\"\n",
      "    solution = '^(' + OR(winners) + ')$'\n",
      "    bb = BranchBoundRandom(solution, calls)\n",
      "    covers = eliminate_dominated(regex_covers(winners, losers))\n",
      "    for restart in range(restarts):\n",
      "        bb.calls = calls\n",
      "        bb.search(covers.copy())\n",
      "        if bb.calls > 0: \n",
      "            return bb # If search was not cut off, then stop\n",
      "    return bb\n",
      "\n",
      "class BranchBoundRandom(BranchBound):\n",
      "    def search(self, covers, partial=None):\n",
      "        \"\"\"Recursively extend partial regex until it matches all winners in covers.\n",
      "        Try all reasonable combinations until we run out of calls.\"\"\"\n",
      "        if self.calls <= 0: \n",
      "            return partial, covers\n",
      "        self.calls -= 1\n",
      "        covers, partial = simplify_covers(covers, partial)\n",
      "        if not covers: # Nothing left to cover; solution is complete\n",
      "            self.solution = min(partial, self.solution, key=len)\n",
      "        elif len(OR(partial, min(covers, key=len))) < len(self.solution):\n",
      "            # Try with and without the greedy-best component\n",
      "            K = random.choice((2, 3, 4, 4, 5, 6))\n",
      "            F = random.choice((1., 1., 2.))\n",
      "            def score(c): return K * len(covers[c]) - len(c) + random.uniform(0., F)\n",
      "            best = max(covers, key=score) # Best component\n",
      "            covered = covers[best] # Set of winners covered by r\n",
      "            covers.pop(best)\n",
      "            self.search({c:covers[c]-covered for c in covers}, OR(partial, best))\n",
      "            self.search(covers, partial)\n",
      "        return self.solution"
     ],
     "language": "python",
     "metadata": {},
     "outputs": [],
     "prompt_number": 55
    },
    {
     "cell_type": "code",
     "collapsed": false,
     "input": [
      "%time benchmark(calls=100)"
     ],
     "language": "python",
     "metadata": {},
     "outputs": [
      {
       "output_type": "stream",
       "stream": "stdout",
       "text": [
        " 49 ch  34 win   5.71 s     100 calls W-L: 'i.*o|o.*o|a.a|po|.f|rc|bu|n.e|j|ay.|ma|an.$|rt|di'\n",
        " 53 ch  34 win   5.08 s     100 calls L-W: '^d|r.*y|^s|go|co*c|nd.|^f|.k.?e|^.la|k.*g|de|hu|ss|ox'"
       ]
      },
      {
       "output_type": "stream",
       "stream": "stdout",
       "text": [
        "\n",
        " 11 ch  10 win   1.23 s      29 calls B-G: 'a.$|de|c|as'"
       ]
      },
      {
       "output_type": "stream",
       "stream": "stdout",
       "text": [
        "\n",
        "  9 ch  10 win   1.31 s      21 calls G-B: 'a$|^m*..i'"
       ]
      },
      {
       "output_type": "stream",
       "stream": "stdout",
       "text": [
        "\n",
        " 22 ch  12 win   2.05 s     100 calls I-O: '4|pa|lt|ch|e.g|s.?a|os'"
       ]
      },
      {
       "output_type": "stream",
       "stream": "stdout",
       "text": [
        "\n",
        " 21 ch  20 win   3.15 s     100 calls O-I: 'ng?s|e.+r|j|m|d|^.i|y'"
       ]
      },
      {
       "output_type": "stream",
       "stream": "stdout",
       "text": [
        "\n",
        " 15 ch  10 win   1.70 s      99 calls P-C: 'o.$|x|ir|q|b|ep'"
       ]
      },
      {
       "output_type": "stream",
       "stream": "stdout",
       "text": [
        "\n",
        " 11 ch  10 win   1.87 s      55 calls C-P: 'ri|a.+e|h|k'"
       ]
      },
      {
       "output_type": "stream",
       "stream": "stdout",
       "text": [
        "\n",
        "  3 ch  21 win   2.30 s       1 calls F-B: 'foo'"
       ]
      },
      {
       "output_type": "stream",
       "stream": "stdout",
       "text": [
        "\n",
        " 24 ch  21 win   3.21 s     100 calls B-F: '..r..|k|.m|...n|ld|la|ah'"
       ]
      },
      {
       "output_type": "stream",
       "stream": "stdout",
       "text": [
        "\n",
        "  7 ch   6 win   3.22 s      31 calls W-T: ' T|P.*E'"
       ]
      },
      {
       "output_type": "stream",
       "stream": "stdout",
       "text": [
        "\n",
        " 12 ch   9 win   4.35 s     100 calls T-W: 'I.?S|TI|H |Y'"
       ]
      },
      {
       "output_type": "stream",
       "stream": "stdout",
       "text": [
        "\n",
        "158 ch 100 win  10.92 s     100 calls N-A: 'l.v|^wa|m.+n|me?$|....o|.i.*d|a.e$|..k$|^g|ir$|.o..e|wo|s.u|h.n.|s.+r|lo?t|aw*$|o.y|y.a|^..g?h|mb|b$|po|tr|rt.?$|i.y|f.c|f.t|ine|fe|o.r$|c.+r$|en.$|^h.a|^d*.y'"
       ]
      },
      {
       "output_type": "stream",
       "stream": "stdout",
       "text": [
        "\n",
        "128 ch  98 win  10.14 s     100 calls A-N: 'e.+y|^o*..$|l.*s|ll|rs*e$|ei*t|st$|en$|far|^a.o|a.*a.|^to|ver$|i..l|u.h|lat|ui|b.t|^l?on|ow$|ard|n.+d|o.n$|wh|ay?b|hu|r.t|ap|hat'"
       ]
      },
      {
       "output_type": "stream",
       "stream": "stdout",
       "text": [
        "\n",
        "162 ch 100 win  11.55 s     100 calls N-V: 'h.*g|m.r*n|p.*r|..h.|mb*e|es|^k?i|.ne|or.?$|f.*c|fe|^.?ar|.as|way|da?y|ye|c.+y|h.*d|ho|ir|am|em|o.l|b..k|ace|ro..|gu|j|lo?t|l.w|fr|s.u*d|t.t|po|^e*.d|^.er*v|w.*e.'"
       ]
      },
      {
       "output_type": "stream",
       "stream": "stdout",
       "text": [
        "\n",
        "160 ch  94 win   7.48 s     100 calls V-N: 'mb$|tar|rr|^..p*l|^s*..$|b.y|f$|ak|read|ve$|s..n|^s.n|..i.$|nk|^fi|^t.?r|ur?t$|h.ar|.pe|o.g|nc|eed|lo..|l.a|c.n|sl|s.*k|^u|un.?$|...w|pl?.y|fl|an?t$|t.+h$|wr|br'"
       ]
      },
      {
       "output_type": "stream",
       "stream": "stdout",
       "text": [
        "\n",
        " 88 ch  64 win  12.72 s     100 calls R-B: 'nd*o|a.._|do|g.+m|f.?$|np$|rand|es$|t.st|s...$|be|ei|ia|are|if|hl|hu|mu|_.*l|^w|we|am?pl'"
       ]
      },
      {
       "output_type": "stream",
       "stream": "stdout",
       "text": [
        "\n",
        "105 ch 141 win  30.79 s     100 calls B-R: 'E|^...$|ge*$|o.*d|a.?s|om?p|N|^f.|tt|u.?e|id|li|i.p|de|ic*t|e.*y|fe|er?c|hr|ev|bo|pr|t.p|he|^c?a|rn|n.x*t'"
       ]
      },
      {
       "output_type": "stream",
       "stream": "stdout",
       "text": [
        "\n",
        " 43 ch 100 win  34.44 s     100 calls D-C: 'E.+S$|I.*S$|H.+N.S|.HI|G.?S|.SO|W |TES|O.D.'"
       ]
      },
      {
       "output_type": "stream",
       "stream": "stdout",
       "text": [
        "\n",
        " 96 ch  91 win  25.72 s     100 calls C-D: 'J.V|RA?$|T$|LI?$|AN?$|N.*X|M$|DW|S.+E$|Y$|M.+N$|M..E*$|AI$|LD$|N. *B|BAL|H$|EU|M.I|K..E|AZ|EO|IX'"
       ]
      },
      {
       "output_type": "stream",
       "stream": "stdout",
       "text": [
        "\n",
        "CPU times: user 2min 58s, sys: 2.61 s, total: 3min\n",
        "Wall time: 2min 58s\n"
       ]
      },
      {
       "output_type": "pyout",
       "prompt_number": 56,
       "text": [
        "1177"
       ]
      }
     ],
     "prompt_number": 56
    },
    {
     "cell_type": "markdown",
     "metadata": {},
     "source": [
      "Remember, when it says \"100 calls\" here, it really means 1,000 calls, because we are doing 10 random restarts. This looks very promising; even with only 100 calls per restart, we're doing better than 100,000 calls without restarts. (But the results will be slightly different every time you re-run this cell, because of the randomness.) Let's continue:"
     ]
    },
    {
     "cell_type": "code",
     "collapsed": false,
     "input": [
      "%time benchmark(calls=1000)"
     ],
     "language": "python",
     "metadata": {},
     "outputs": [
      {
       "output_type": "stream",
       "stream": "stdout",
       "text": [
        " 47 ch  34 win   6.90 s   1,000 calls W-L: 'i.*o|o.*o|a.a|po|a.t|j|bu|rc|r.i|n.e|vel|ay.|ma'\n",
        " 56 ch  34 win   6.12 s   1,000 calls L-W: 'r.*y|i.e?$|^s|go|d..e|^f|la.$|ox|ss|d.n$|n.+k|k.*g|pa|hu'"
       ]
      },
      {
       "output_type": "stream",
       "stream": "stdout",
       "text": [
        "\n",
        " 11 ch  10 win   1.22 s      29 calls B-G: 'a.$|c|de|as'"
       ]
      },
      {
       "output_type": "stream",
       "stream": "stdout",
       "text": [
        "\n",
        "  9 ch  10 win   1.29 s      23 calls G-B: 'a$|^m*..i'"
       ]
      },
      {
       "output_type": "stream",
       "stream": "stdout",
       "text": [
        "\n",
        " 22 ch  12 win   1.98 s     371 calls I-O: '4|pa|lt|ch|e.g|os|s.?a'"
       ]
      },
      {
       "output_type": "stream",
       "stream": "stdout",
       "text": [
        "\n",
        " 19 ch  20 win   3.15 s     581 calls O-I: 'ns|d|^.i|e.+r|y|j|m'"
       ]
      },
      {
       "output_type": "stream",
       "stream": "stdout",
       "text": [
        "\n",
        " 15 ch  10 win   1.71 s      95 calls P-C: 'o.$|x|ir|q|b|ep'"
       ]
      },
      {
       "output_type": "stream",
       "stream": "stdout",
       "text": [
        "\n",
        " 11 ch  10 win   1.89 s      45 calls C-P: 'ri|h|a.+e|k'"
       ]
      },
      {
       "output_type": "stream",
       "stream": "stdout",
       "text": [
        "\n",
        "  3 ch  21 win   2.34 s       1 calls F-B: 'foo'"
       ]
      },
      {
       "output_type": "stream",
       "stream": "stdout",
       "text": [
        "\n",
        " 23 ch  21 win   4.89 s   1,000 calls B-F: 'k|...n|ar|ld|^i|or|la|b'"
       ]
      },
      {
       "output_type": "stream",
       "stream": "stdout",
       "text": [
        "\n",
        "  7 ch   6 win   3.23 s      23 calls W-T: ' T|P.*E'"
       ]
      },
      {
       "output_type": "stream",
       "stream": "stdout",
       "text": [
        "\n",
        " 12 ch   9 win   4.22 s     163 calls T-W: 'I.?S|ER|H |Y'"
       ]
      },
      {
       "output_type": "stream",
       "stream": "stdout",
       "text": [
        "\n",
        "158 ch 100 win  12.19 s   1,000 calls N-A: 'l.v|^wa|m.+n|me?$|.i.*d|....o|a.ea?$|..k$|^g|ir$|.o..e|wo|nt$|.e.+c|lo?t|h.n.|mb|b$|rt.?$|^..g?h|ow*.r$|s.u|ine|fe|o.y|tr|f.c|i.y|ca|f.t|aw*$|y.a|^d*.y|^.?e.d'"
       ]
      },
      {
       "output_type": "stream",
       "stream": "stdout",
       "text": [
        "\n",
        "128 ch  98 win  11.57 s   1,000 calls A-N: 'e.+y|^o*..$|l.*s|ll|rs*e$|ei*t|st$|en$|far|ver$|^a.o|i..l|u.h|lat|ui|b.t|^l?on|^to|..ea*d|ard|ow$|a.a|ay?b|o.n$|wh|hu|rh?a..|hat'"
       ]
      },
      {
       "output_type": "stream",
       "stream": "stdout",
       "text": [
        "\n",
        "161 ch 100 win  12.72 s   1,000 calls N-V: 'h.*g|m.r*n|p.*r|..h.|mb*e|^k?i|.ne|or.?$|e.*o|po|f.*c|fe|^.?ar|.as|way|.d.$|h.*d|rl|^en|lo?t|l.w|j|c.+y|ye|am|em|ho|gu|b..k|ace|ro..|a.+r|we|e.e.|fr|ic|.t.+e|d.y'"
       ]
      },
      {
       "output_type": "stream",
       "stream": "stdout",
       "text": [
        "\n",
        "157 ch  94 win   8.95 s   1,000 calls V-N: 'mb$|tar|rr|^..p*l|^s*..$|b.y|f$|as*k|read|ve$|s..n|^s.n|ink*$|^fi|un?t$|^t.?r|.pe|o.g|w.?i|lo..|ke|nc|eed|l.a|c.n|sl|^r?u|br|...w|an?t$|^he*.r|pl?.y|fl|t.+h$'"
       ]
      },
      {
       "output_type": "stream",
       "stream": "stdout",
       "text": [
        "\n",
        " 88 ch  64 win  14.03 s   1,000 calls R-B: 'nd*o|a.._|do|g.+m|rand|f.?$|np$|est?$|s...$|_s|be|^w|ia|ch..|if|hu|ei|_.*l|^p.r|we|am?pl'"
       ]
      },
      {
       "output_type": "stream",
       "stream": "stdout",
       "text": [
        "\n",
        "104 ch 141 win  32.03 s   1,000 calls B-R: 'E|^...$|ge*$|o.*d|a.?s|^c?o|bo|^f.|a.t|e.*y|u.?e|id|fe|^i.*t|li|N|t.p|ev|pr|he|i.p|de|xt|^a|ic*t|hr|c..l'"
       ]
      },
      {
       "output_type": "stream",
       "stream": "stdout",
       "text": [
        "\n",
        " 43 ch 100 win  35.49 s   1,000 calls D-C: 'E.+S$|I.*S$|H.+N.S|.HI|G.?S|.SO|W |TES|O.D.'"
       ]
      },
      {
       "output_type": "stream",
       "stream": "stdout",
       "text": [
        "\n",
        " 96 ch  91 win  27.10 s   1,000 calls C-D: 'J.V|RA?$|T$|LD*$|AN?$|N.*X|M$|S.+E$|Y$|M.+N$|M..E*$|H$|N. *B|BAL|M.I|LI$|AI$|DW|NK|EU?X|AZ|EO|IX'"
       ]
      },
      {
       "output_type": "stream",
       "stream": "stdout",
       "text": [
        "\n",
        "CPU times: user 3min 12s, sys: 2.9 s, total: 3min 14s\n",
        "Wall time: 3min 13s\n"
       ]
      },
      {
       "output_type": "pyout",
       "prompt_number": 57,
       "text": [
        "1170"
       ]
      }
     ],
     "prompt_number": 57
    },
    {
     "cell_type": "code",
     "collapsed": false,
     "input": [
      "%time benchmark(calls=10000)"
     ],
     "language": "python",
     "metadata": {},
     "outputs": [
      {
       "output_type": "stream",
       "stream": "stdout",
       "text": [
        " 46 ch  34 win  23.52 s  10,000 calls W-L: 'i.*o|o.*o|bu|a.t|j|ma|po|ie.|ay.|ar*d|n.e|el?a'\n",
        " 52 ch  34 win  19.92 s  10,000 calls L-W: 'r.*y|^d|^s|go|^f|m.+a|....k|^.?la|ki?..$|de|hu|ss|ox'"
       ]
      },
      {
       "output_type": "stream",
       "stream": "stdout",
       "text": [
        "\n",
        " 11 ch  10 win   1.22 s      25 calls B-G: 'a.$|c|de|as'"
       ]
      },
      {
       "output_type": "stream",
       "stream": "stdout",
       "text": [
        "\n",
        "  9 ch  10 win   1.32 s      19 calls G-B: 'a$|^m*..i'"
       ]
      },
      {
       "output_type": "stream",
       "stream": "stdout",
       "text": [
        "\n",
        " 22 ch  12 win   1.97 s     355 calls I-O: '4|pa|lt|ch|s.?a|e.g|os'"
       ]
      },
      {
       "output_type": "stream",
       "stream": "stdout",
       "text": [
        "\n",
        " 19 ch  20 win   3.11 s     621 calls O-I: 'ns|^.i|e.+r|y|j|d|m'"
       ]
      },
      {
       "output_type": "stream",
       "stream": "stdout",
       "text": [
        "\n",
        " 15 ch  10 win   1.69 s      97 calls P-C: 'o.$|x|ir|q|b|ep'"
       ]
      },
      {
       "output_type": "stream",
       "stream": "stdout",
       "text": [
        "\n",
        " 11 ch  10 win   1.87 s      43 calls C-P: 'ri|a.+e|h|k'"
       ]
      },
      {
       "output_type": "stream",
       "stream": "stdout",
       "text": [
        "\n",
        "  3 ch  21 win   2.30 s       1 calls F-B: 'foo'"
       ]
      },
      {
       "output_type": "stream",
       "stream": "stdout",
       "text": [
        "\n",
        " 23 ch  21 win   4.18 s   5,223 calls B-F: 'k|...n|or|ar|ld|la|^i|b'"
       ]
      },
      {
       "output_type": "stream",
       "stream": "stdout",
       "text": [
        "\n",
        "  7 ch   6 win   3.26 s      23 calls W-T: ' T|P.*E'"
       ]
      },
      {
       "output_type": "stream",
       "stream": "stdout",
       "text": [
        "\n",
        " 12 ch   9 win   4.22 s     167 calls T-W: 'I.?S| F|RA|Y'"
       ]
      },
      {
       "output_type": "stream",
       "stream": "stdout",
       "text": [
        "\n",
        "159 ch 100 win  25.66 s  10,000 calls N-A: 'l.v|^wa|m.+n|me?$|.i.*d|....o|wo|a.*c.$|.o..e|^g|ir$|nt$|h.n.|lo?t|aw*$|o.y|y.a|s.u|tr|rt.?$|^..g?h|b$|mb|ca|i.y|ow*.r$|ice|f.t|ine|fe|..k$|^d*.y|..a.*e|^.?e.d'"
       ]
      },
      {
       "output_type": "stream",
       "stream": "stdout",
       "text": [
        "\n",
        "128 ch  98 win  27.69 s  10,000 calls A-N: 'e.+y|^o*..$|l.*s|ll|rs*e$|ei*t|st$|en$|far|ver$|i..l|u.h|lat|ui|ow*$|a.*a.|^to|ay?b|b.t|lon|ard|o.nd*$|wh|^on|n.+d|hu|hap*.$|r.t'"
       ]
      },
      {
       "output_type": "stream",
       "stream": "stdout",
       "text": [
        "\n",
        "161 ch 100 win  26.15 s  10,000 calls N-V: 'h.*g|m.r*n|p.*r|..h.|mb*e|t.?o|.ne|^k?i|f.*c|fe|^.?ar|.as|way|da?y|h.*d|^en|lo?t|l.w|j|c.+y|ye|or.?$|rl|ho|am|em|p.+e|po|ro..|gu|b..k|id|a.+r|we|fr|e.e.|ic|.t.+e'"
       ]
      },
      {
       "output_type": "stream",
       "stream": "stdout",
       "text": [
        "\n",
        "158 ch  94 win  23.69 s  10,000 calls V-N: 'mb$|tar|rr|^..p*l|^s*..$|b.y|f$|as*k|read|ve$|s..n|^s.n|ink*$|^fi|un?t$|^t.?r|.pe|o.g|w..t|sw|lo..|ke|nc|eed|sl|l.a|c.n|^ea|^r?u|br|...w|pl?.y|fl|t.+h$|^he*.r'"
       ]
      },
      {
       "output_type": "stream",
       "stream": "stdout",
       "text": [
        "\n",
        " 86 ch  64 win  28.64 s  10,000 calls R-B: 'nd*o|a.._|do|rand|f$|np$|g.+m|est?$|s...$|_s|u.?a|ei|be|o$|if|hu|_.*l|po.e|hl|^w|am?pl'"
       ]
      },
      {
       "output_type": "stream",
       "stream": "stdout",
       "text": [
        "\n",
        "104 ch 141 win  47.87 s  10,000 calls B-R: 'E|^...$|ge*$|o.*d|a.?s|^c?o|bo|^f.|a.t|e.*y|u.?e|id|fe|^i.*t|li|N|t.p|pr|he|ev|i.p|de|xt|^c?a|ic*t|hr|ec'"
       ]
      },
      {
       "output_type": "stream",
       "stream": "stdout",
       "text": [
        "\n",
        " 43 ch 100 win  56.61 s  10,000 calls D-C: 'E.+S$|I.*S$|H.+N.S|.HI|G.?S|.SO|W |TES|O.D.'"
       ]
      },
      {
       "output_type": "stream",
       "stream": "stdout",
       "text": [
        "\n",
        " 96 ch  91 win  40.46 s  10,000 calls C-D: 'J.V|RA?$|T$|LD*$|AN?$|N.*X|M$|Y$|S.+E$|M.+N$|M..E*$|N. *B|BAL|H$|LI$|AI$|DW|M.I|IX|EU|K..E|EO|AZ'"
       ]
      },
      {
       "output_type": "stream",
       "stream": "stdout",
       "text": [
        "\n",
        "CPU times: user 5min 44s, sys: 3.71 s, total: 5min 47s\n",
        "Wall time: 5min 45s\n"
       ]
      },
      {
       "output_type": "pyout",
       "prompt_number": 58,
       "text": [
        "1165"
       ]
      }
     ],
     "prompt_number": 58
    },
    {
     "cell_type": "markdown",
     "metadata": {},
     "source": [
      "Just One More Thing: Negative Lookahead\n",
      "----\n",
      "\n",
      "In the `foo` versus `bar` example, we have a big asymmetry in the solution lengths: three letter for `'foo'` compared to 23 characters in the other direction.  But if you are a real [regular expression superhero](https://xkcd.com/208/), then you might know about [*negative lookahead assertions*](http://docs.python.org/2/howto/regex.html#lookahead-assertions) and you could solve `bar` versus `foo` like this:                                                "
     ]
    },
    {
     "cell_type": "code",
     "collapsed": false,
     "input": [
      "solution = '^(?!.*foo)'\n",
      "verify(solution, bar, foo)"
     ],
     "language": "python",
     "metadata": {},
     "outputs": [
      {
       "output_type": "pyout",
       "prompt_number": 59,
       "text": [
        "True"
       ]
      }
     ],
     "prompt_number": 59
    },
    {
     "cell_type": "markdown",
     "metadata": {},
     "source": [
      "Whoa&mdash;what just happened there? The form `'^(?!.*foo)` means \"starting from the beginning of the line, look ahead for `'.*foo'` (that is, any number of characters followed by `'foo'`). If it is there, then succeed, else fail.\" That's just what we need to match all the non-foo strings in the `bar` collection. Let's apply this idea to the complete benchmark and see how many characters we save.  We'll use the `SOLUTION` dict that was compiled by the previous call to  `benchmark`:"
     ]
    },
    {
     "cell_type": "code",
     "collapsed": false,
     "input": [
      "def negative_lookahead_solution(W, L): \n",
      "    \"Find a solution for W but not L by negative lookahead on SOLUTION[L, W].\"\n",
      "    solution = '^(?!.*(' + SOLUTION[L, W] + '))'\n",
      "    assert verify(solution, W, L)\n",
      "    return solution\n",
      "\n",
      "def better_solution(W, L):\n",
      "    \"Return the better of the 'regular' or negative lookahead solutions.\"\n",
      "    return min(SOLUTION[W, L], negative_lookahead_solution(W, L),\n",
      "               key=len)\n",
      "    \n",
      "%time sum(len(better_solution(W, L)) for (W, _, _, L) in ALL)"
     ],
     "language": "python",
     "metadata": {},
     "outputs": [
      {
       "output_type": "stream",
       "stream": "stdout",
       "text": [
        "CPU times: user 19 ms, sys: 5.38 ms, total: 24.4 ms\n",
        "Wall time: 20.2 ms\n"
       ]
      },
      {
       "output_type": "pyout",
       "prompt_number": 60,
       "text": [
        "1079"
       ]
      }
     ],
     "prompt_number": 60
    },
    {
     "cell_type": "markdown",
     "metadata": {},
     "source": [
      "Very nice! We've improved from 1163 to 1079 characters, and it took almost no time at all.  Here are all the results, in table and plot form:"
     ]
    },
    {
     "cell_type": "markdown",
     "metadata": {},
     "source": [
      "<table>\n",
      "<tr<th><th><th colspan=2>parts@4<th colspan=2>parts@5, reps, pairs\n",
      "<tr><th>Algorithm<th>Size (chars)<th>Time (secs)<th>Size (chars)<th>Time (secs)\n",
      "<tr><td>Greedy<td>1355<td>4<td><td>\n",
      "<tr><td>BB(1,000)<td>1300<td>6<td>1203<td>170\n",
      "<tr><td>BB(10,000)<td>1296<td>16<td>1196<td>184\n",
      "<tr><td>BB(100,000)<td>1294<td>142<td>1191<td>348\n",
      "<tr><td>BBR(100 &times; 10)<td><td><td>1177<td>178\n",
      "<tr><td>BBR(1,000 &times; 10)<td><td><td>1170<td>193\n",
      "<tr><td>BBR(10,000 &times; 10)<td><td><td>1165<td>345\n",
      "<tr><td>BBR(10,000 &times; 10) + Neg Look<td><td><td>1079<td>345\n",
      "</table>"
     ]
    },
    {
     "cell_type": "code",
     "collapsed": false,
     "input": [
      "m = 60.\n",
      "plot([4/m], [1355], 'gD-', label='Greedy')\n",
      "plot([170/m, 184/m, 348/m], [1203, 1196, 1191], 'bo-', label='BB')\n",
      "plot([178/m, 193/m, 345/m], [1177, 1170, 1165], 'rs-', label='BBR')\n",
      "plot([345/m], [1079], 'k*-', markersize=12, label='BBR + Neg Look')\n",
      "xlabel('Time (minutes)'); ylabel('Solution size (chars)')\n",
      "legend(loc='upper right');"
     ],
     "language": "python",
     "metadata": {},
     "outputs": [
      {
       "output_type": "display_data",
       "png": "[encoded data removed]",
       "text": [
        "<matplotlib.figure.Figure at 0xdf8c150>"
       ]
      }
     ],
     "prompt_number": 63
    },
    {
     "cell_type": "markdown",
     "metadata": {},
     "source": [
      "(This plot gives the total solution length as a function of the amount of computation time.)\n",
      "\n",
      "We've made great strides, improving the total solution length by 20% over the initial version with greedy search.  (It is up to you whether that 20% improvement is worth the increase in time from 4 seconds to 6 minutes.)\n",
      "\n",
      "Speculating: Other Ideas\n",
      "----\n",
      "\n",
      "I'm going to stop here, but I'll briefly mention some other ideas that I didn't get to investigate.  Perhaps you can play with some of these, or with other ideas.\n",
      "\n",
      "- *Completely different approach*: [Thomas Breuel](https://plus.google.com/118190679520611168174/posts) suggested doing [minimization](http://en.wikipedia.org/wiki/DFA_minimization) of [weighted finite state transducers](http://nbviewer.ipython.org/url/nlpa.iupr.com/resources/nlpa-openfst.ipynb?attredirects=0&create=1).\n",
      "- *Character classes*: We never considered character classes, such as `'[abc]'`. It is not obvious they would help, but it is possible.  Consider the fragment `'ld|la'`, which shows up in one of the solutions.  We could replace that with a single component, `'l[da]'`.  But we haven't gained anything; both are 5 characters long.  If we had had `'l.d|l.c|l.b|l.a'` then the replacement `'l.[a-d]'` would save 8 characters, but I don't see many opportunities like that.  It might also be possible to use *negative* character classes, like `l[^y]` to explicitly avoid something in the losers set.\n",
      "\n",
      "- *Prefilter parts*: Currently, `regex_covers` generates a huge set of components, then eliminates the ones that match losers (or don't match winners), and then eliminates the ones that are dominated.  We could make `regex_covers` faster by not generating components that can't possibly contribute.  Suppose we're considering a subpart, say `'ab'`. If it matches no losers, then there is no reason to extend it to a longer subpart, such as `'abc'`, because we know that `'abc'` is dominated by `'ab'`.  By filtering out dominated parts before we have to check them, I estimate we should be able to cut the time for `regex_covers` in half, maybe better.\n",
      "- *Better component choice*: We pick the \"best\" component based on how many winners it covers and how many characters it takes.  Maybe we could have a better measure; perhaps taking into account whether it covers winners that are \"easy\" to cover by other regexes, or \"hard\" to cover.\n",
      "- *Tuning*: We have the two parameters `K` and `F`, which are randomly chosen from a fairly arbitrary distribution.  We could measure which values of the parameters perform better and pick those values more often.\n",
      "- *Post-editing*: We concentrated on the task of generating a solution from scratch; another task is to improve an existing solution.  For example, take the set of components in a solution, and see if one component could be dropped&mdash;it is possible that all the winners covered by that component might accidentally have been covered by other components, making it unnecessary. Or take all pairs of components, and see if they could be replaced by a shorter set of components.\n",
      "- *Better bounds*: Branch and Bound search works best if the bounds are tight.  If we can recognize early that the path we are on cannot possibly be as good as the best solution found so far then we can cut off search early and save time.  But the bound estimate we are using now is a poor one.  We estimate the cost of a solution as the cost of the partial solution plus the cost of the shortest component remaining.  We use this estimate because all we know for sure is that we need at least one more component.  Here's one way to get a better bound by recognizing that in many cases we will need more than one more component. We'll define the following quantities:\n",
      "\n",
      "    + *P* = the length of the partial solution, plus the \"|\", if needed.  So if the partial solution is `None`, then *P* = 0, else *P* is the length plus 1.\n",
      "    + *S* = the length of the shortest regex component in `covers`.\n",
      "    + *W* = the number of winners still in `covers`.\n",
      "    + *C* = the largest number of winners covered by any regex in `covers`.\n",
      "    \n",
      "    The current estimate is *P* + *S*.  We can see that a better estimate is *P* + *S* &times; ceil(*W* / *C*).\n",
      "\n",
      "\n",
      "I hope you had fun seeing how I (and Stefan) attacked this problem; now go out and solve some problems of your own. <p>If you want to download the Python in one file, here it is: <a href=\"xkcd1313.py\">xkcd1313.py</a>\n"
     ]
    },
    {
     "cell_type": "markdown",
     "metadata": {},
     "source": [
      "\n",
      "\n",
      "<hr>\n",
      "[*Peter Norvig*](http://norvig.com),  Feb. 2014"
     ]
    }
   ],
   "metadata": {}
  }
 ]
}
