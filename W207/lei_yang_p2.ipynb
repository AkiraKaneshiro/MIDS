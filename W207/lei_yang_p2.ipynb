{
 "cells": [
  {
   "cell_type": "markdown",
   "metadata": {},
   "source": [
    "# Project 2: Topic Classification"
   ]
  },
  {
   "cell_type": "markdown",
   "metadata": {},
   "source": [
    "In this project, you'll work with text data from newsgroup postings on a variety of topics. You'll train classifiers to distinguish between the topics based on the text of the posts. Whereas with digit classification, the input is relatively dense: a 28x28 matrix of pixels, many of which are non-zero, here we'll represent each document with a \"bag-of-words\" model. As you'll see, this makes the feature representation quite sparse -- only a few words of the total vocabulary are active in any given document. The bag-of-words assumption here is that the label depends only on the words; their order is not important.\n",
    "\n",
    "The SK-learn documentation on feature extraction will prove useful:\n",
    "http://scikit-learn.org/stable/modules/feature_extraction.html\n",
    "\n",
    "Each problem can be addressed succinctly with the included packages -- please don't add any more. Grading will be based on writing clean, commented code, along with a few short answers.\n",
    "\n",
    "As always, you're welcome to work on the project in groups and discuss ideas on the course wall, but please prepare your own write-up and write your own code."
   ]
  },
  {
   "cell_type": "code",
   "execution_count": 1,
   "metadata": {
    "collapsed": false
   },
   "outputs": [],
   "source": [
    "# This tells matplotlib not to try opening a new window for each plot.\n",
    "%matplotlib inline\n",
    "\n",
    "# General libraries.\n",
    "import re\n",
    "import numpy as np\n",
    "import matplotlib.pyplot as plt\n",
    "\n",
    "# SK-learn libraries for learning.\n",
    "from sklearn.pipeline import Pipeline\n",
    "from sklearn.neighbors import KNeighborsClassifier\n",
    "from sklearn.linear_model import LogisticRegression\n",
    "from sklearn.naive_bayes import BernoulliNB\n",
    "from sklearn.naive_bayes import MultinomialNB\n",
    "from sklearn.grid_search import GridSearchCV\n",
    "\n",
    "# SK-learn libraries for evaluation.\n",
    "from sklearn.metrics import confusion_matrix\n",
    "from sklearn import metrics\n",
    "from sklearn.metrics import classification_report\n",
    "\n",
    "# SK-learn library for importing the newsgroup data.\n",
    "from sklearn.datasets import fetch_20newsgroups\n",
    "\n",
    "# SK-learn libraries for feature extraction from text.\n",
    "from sklearn.feature_extraction.text import *"
   ]
  },
  {
   "cell_type": "markdown",
   "metadata": {},
   "source": [
    "Load the data, stripping out metadata so that we learn classifiers that only use textual features. By default, newsgroups data is split into train and test sets. We further split the test so we have a dev set. Note that we specify 4 categories to use for this project. If you remove the categories argument from the fetch function, you'll get all 20 categories."
   ]
  },
  {
   "cell_type": "code",
   "execution_count": 2,
   "metadata": {
    "collapsed": false
   },
   "outputs": [
    {
     "name": "stdout",
     "output_type": "stream",
     "text": [
      "training label shape: (2034L,)\n",
      "test label shape: (677L,)\n",
      "dev label shape: (676L,)\n",
      "labels names: ['alt.atheism', 'comp.graphics', 'sci.space', 'talk.religion.misc']\n"
     ]
    }
   ],
   "source": [
    "categories = ['alt.atheism', 'talk.religion.misc', 'comp.graphics', 'sci.space']\n",
    "newsgroups_train = fetch_20newsgroups(subset='train',\n",
    "                                      remove=('headers', 'footers', 'quotes'),\n",
    "                                      categories=categories)\n",
    "newsgroups_test = fetch_20newsgroups(subset='test',\n",
    "                                     remove=('headers', 'footers', 'quotes'),\n",
    "                                     categories=categories)\n",
    "\n",
    "num_test = len(newsgroups_test.target)\n",
    "test_data, test_labels = newsgroups_test.data[num_test/2:], newsgroups_test.target[num_test/2:]\n",
    "dev_data, dev_labels = newsgroups_test.data[:num_test/2], newsgroups_test.target[:num_test/2]\n",
    "train_data, train_labels = newsgroups_train.data, newsgroups_train.target\n",
    "\n",
    "print 'training label shape:', train_labels.shape\n",
    "print 'test label shape:', test_labels.shape\n",
    "print 'dev label shape:', dev_labels.shape\n",
    "print 'labels names:', newsgroups_train.target_names"
   ]
  },
  {
   "cell_type": "markdown",
   "metadata": {},
   "source": [
    "(1) For each of the first 5 training examples, print the text of the message along with the label.\n",
    "\n",
    "[2 pts]"
   ]
  },
  {
   "cell_type": "code",
   "execution_count": 7,
   "metadata": {
    "collapsed": false
   },
   "outputs": [
    {
     "name": "stdout",
     "output_type": "stream",
     "text": [
      "\n",
      "------------------------ training example #1 --------------------------------\n",
      "label number 1 - label name: comp.graphics\n",
      "Hi,\n",
      "\n",
      "I've noticed that if you only save a model (with all your mapping planes\n",
      "positioned carefully) to a .3DS file that when you reload it after restarting\n",
      "3DS, they are given a default position and orientation.  But if you save\n",
      "to a .PRJ file their positions/orientation are preserved.  Does anyone\n",
      "know why this information is not stored in the .3DS file?  Nothing is\n",
      "explicitly said in the manual about saving texture rules in the .PRJ file. \n",
      "I'd like to be able to read the texture rule information, does anyone have \n",
      "the format for the .PRJ file?\n",
      "\n",
      "Is the .CEL file format available from somewhere?\n",
      "\n",
      "Rych\n",
      "\n",
      "------------------------ training example #2 --------------------------------\n",
      "label number 3 - label name: talk.religion.misc\n",
      "\n",
      "\n",
      "Seems to be, barring evidence to the contrary, that Koresh was simply\n",
      "another deranged fanatic who thought it neccessary to take a whole bunch of\n",
      "folks with him, children and all, to satisfy his delusional mania. Jim\n",
      "Jones, circa 1993.\n",
      "\n",
      "\n",
      "Nope - fruitcakes like Koresh have been demonstrating such evil corruption\n",
      "for centuries.\n",
      "\n",
      "------------------------ training example #3 --------------------------------\n",
      "label number 2 - label name: sci.space\n",
      "\n",
      " >In article <1993Apr19.020359.26996@sq.sq.com>, msb@sq.sq.com (Mark Brader) \n",
      "\n",
      "MB>                                                             So the\n",
      "MB> 1970 figure seems unlikely to actually be anything but a perijove.\n",
      "\n",
      "JG>Sorry, _perijoves_...I'm not used to talking this language.\n",
      "\n",
      "Couldn't we just say periapsis or apoapsis?\n",
      "\n",
      " \n",
      "\n",
      "------------------------ training example #4 --------------------------------\n",
      "label number 0 - label name: alt.atheism\n",
      "I have a request for those who would like to see Charley Wingate\n",
      "respond to the \"Charley Challenges\" (and judging from my e-mail, there\n",
      "appear to be quite a few of you.)  \n",
      "\n",
      "It is clear that Mr. Wingate intends to continue to post tangential or\n",
      "unrelated articles while ingoring the Challenges themselves.  Between\n",
      "the last two re-postings of the Challenges, I noted perhaps a dozen or\n",
      "more posts by Mr. Wingate, none of which answered a single Challenge.  \n",
      "\n",
      "It seems unmistakable to me that Mr. Wingate hopes that the questions\n",
      "will just go away, and he is doing his level best to change the\n",
      "subject.  Given that this seems a rather common net.theist tactic, I\n",
      "would like to suggest that we impress upon him our desire for answers,\n",
      "in the following manner:\n",
      "\n",
      "1. Ignore any future articles by Mr. Wingate that do not address the\n",
      "Challenges, until he answers them or explictly announces that he\n",
      "refuses to do so.\n",
      "\n",
      "--or--\n",
      "\n",
      "2. If you must respond to one of his articles, include within it\n",
      "something similar to the following:\n",
      "\n",
      "    \"Please answer the questions posed to you in the Charley Challenges.\"\n",
      "\n",
      "Really, I'm not looking to humiliate anyone here, I just want some\n",
      "honest answers.  You wouldn't think that honesty would be too much to\n",
      "ask from a devout Christian, would you?  \n",
      "\n",
      "Nevermind, that was a rhetorical question.\n",
      "\n",
      "------------------------ training example #5 --------------------------------\n",
      "label number 2 - label name: sci.space\n",
      "AW&ST  had a brief blurb on a Manned Lunar Exploration confernce\n",
      "May 7th  at Crystal City Virginia, under the auspices of AIAA.\n",
      "\n",
      "Does anyone know more about this?  How much, to attend????\n",
      "\n",
      "Anyone want to go?\n",
      "\n",
      "------------------------ End of P1 --------------------------------\n",
      "\n"
     ]
    }
   ],
   "source": [
    "### STUDENT START ###\n",
    "def P1(num_examples=5):\n",
    "    for i in range(num_examples):\n",
    "        print '\\n------------------------ training example #%d ' %(i+1) + '--------------------------------'\n",
    "        print 'label number %d - label name: '  %(train_labels[i]) + newsgroups_train.target_names[train_labels[i]]\n",
    "        print train_data[i]\n",
    "    print '\\n------------------------ End of P1 --------------------------------\\n'\n",
    "### STUDENT END ###\n",
    "\n",
    "P1(5)\n"
   ]
  },
  {
   "cell_type": "markdown",
   "metadata": {},
   "source": [
    "(2) Use CountVectorizer to turn the raw training text into feature vectors. You should use the fit_transform function, which makes 2 passes through the data: first it computes the vocabulary (\"fit\"), second it converts the raw text into feature vectors using the vocabulary (\"transform\").\n",
    "\n",
    "The vectorizer has a lot of options. To get familiar with some of them, write code to answer these questions:\n",
    "\n",
    "a. The output of the transform (also of fit_transform) is a sparse matrix: http://docs.scipy.org/doc/scipy-0.14.0/reference/generated/scipy.sparse.csr_matrix.html. What is the size of the vocabulary? What is the average number of non-zero features per example? What fraction of the entries in the matrix are non-zero? Hint: use \"nnz\" and \"shape\" attributes.\n",
    "\n",
    "b. What are the 0th and last feature strings (in alphabetical order)? Hint: use the vectorizer's get_feature_names function.\n",
    "\n",
    "c. Specify your own vocabulary with 4 words: [\"atheism\", \"graphics\", \"space\", \"religion\"]. Confirm the training vectors are appropriately shaped. Now what's the average number of non-zero features per example?\n",
    "\n",
    "d. Instead of extracting unigram word features, use \"analyzer\" and \"ngram_range\" to extract bigram and trigram character features. What size vocabulary does this yield?\n",
    "\n",
    "e. Use the \"min_df\" argument to prune words that appear in fewer than 10 documents. What size vocabulary does this yield?\n",
    "\n",
    "f. Using the standard CountVectorizer, what fraction of the words in the dev data are missing from the vocabulary? Hint: build a vocabulary for both train and dev and look at the size of the difference.\n",
    "\n",
    "[6 pts]"
   ]
  },
  {
   "cell_type": "code",
   "execution_count": 4,
   "metadata": {
    "collapsed": false,
    "scrolled": true
   },
   "outputs": [
    {
     "name": "stdout",
     "output_type": "stream",
     "text": [
      "\n",
      "------------------ Part a: vocabulary stats ------------------\n",
      "size of the vocabulary: 26879\n",
      "average number of non-zero features per example: 96.705998\n",
      "fraction of the non-zero entries in the matrix: 0.003598\n",
      "\n",
      "------------------ Part b: feature strings ------------------\n",
      "0th feature string: 00\n",
      "last feature string: zyxel\n",
      "\n",
      "------------------ Part c: manual vocabulary ------------------\n",
      "new dimension: [2034 x 4]\n",
      "average number of non-zero features per example: 0.268437\n",
      "\n",
      "------------------ Part d: bigram and trigram char feature ------------------\n",
      "size of vocabulary for bigram feature: 3291\n",
      "size of vocabulary for trigram feature: 32187\n",
      "\n",
      "------------------ Part e: with min_df = 10 ------------------\n",
      "size of vocabulary for unigram feature: 3064\n",
      "\n",
      "------------------ Part f: vocabulary discrepancy ------------------\n",
      "Percentage of dev words missing in vocabulary: 0.247876\n"
     ]
    }
   ],
   "source": [
    "\n",
    "### STUDENT START ###\n",
    "\n",
    "def P2():\n",
    "    print '\\n------------------ Part a: vocabulary stats ------------------'\n",
    "    uniVectorizer = CountVectorizer()\n",
    "    docTermMatrix = uniVectorizer.fit_transform(train_data)    \n",
    "    print 'size of the vocabulary: %d' %(docTermMatrix.shape[1])\n",
    "    print 'average number of non-zero features per example: %2f' %(np.mean([doc.nnz for doc in docTermMatrix]))\n",
    "    print 'fraction of the non-zero entries in the matrix: %2f' %(1.0*docTermMatrix.nnz/np.prod(docTermMatrix.shape))\n",
    "    \n",
    "    print '\\n------------------ Part b: feature strings ------------------'\n",
    "    featureNames = uniVectorizer.get_feature_names()\n",
    "    print '0th feature string: ' + featureNames[0]\n",
    "    print 'last feature string: ' + featureNames[-1]\n",
    "    \n",
    "    print '\\n------------------ Part c: manual vocabulary ------------------'  \n",
    "    # set 4-word vocabulary and re-fit\n",
    "    uniVectorizer = CountVectorizer(vocabulary = [\"atheism\", \"graphics\", \"space\", \"religion\"])\n",
    "    docTermMatrix = uniVectorizer.fit_transform(train_data)    \n",
    "    # check shape of the new document-term matrix\n",
    "    print 'new dimension: [%d x %d]' %(docTermMatrix.shape[0], docTermMatrix.shape[1])\n",
    "    # average number of non-zero features per example\n",
    "    print 'average number of non-zero features per example: %2f' %(np.mean([doc.nnz for doc in docTermMatrix]))\n",
    "    \n",
    "    print '\\n------------------ Part d: bigram and trigram char feature ------------------'\n",
    "    biVectorizer = CountVectorizer(analyzer='char', ngram_range=(2,2))    \n",
    "    biVectorizer.fit(train_data)\n",
    "    print 'size of vocabulary for bigram feature: %d' %len(biVectorizer.get_feature_names())    \n",
    "    triVectorizer = CountVectorizer(analyzer='char', ngram_range=(3,3))\n",
    "    triVectorizer.fit(train_data)\n",
    "    print 'size of vocabulary for trigram feature: %d' %len(triVectorizer.get_feature_names())\n",
    "    \n",
    "    print '\\n------------------ Part e: with min_df = 10 ------------------'\n",
    "    uniVectorizer = CountVectorizer(min_df=10)\n",
    "    uniVectorizer.fit(train_data)\n",
    "    print 'size of vocabulary for unigram feature: %d' %(len(uniVectorizer.get_feature_names()))\n",
    "        \n",
    "    print '\\n------------------ Part f: vocabulary discrepancy ------------------'\n",
    "    vectorizer = CountVectorizer()\n",
    "    vectorizer.fit(train_data)\n",
    "    trainFeatures = vectorizer.get_feature_names()\n",
    "    vectorizer.fit(dev_data)\n",
    "    testFeatures = vectorizer.get_feature_names()\n",
    "    commonFeatures = list(set(trainFeatures) & set(testFeatures))\n",
    "    print 'Percentage of dev words missing in vocabulary: %2f' %(1.0*(len(testFeatures)-len(commonFeatures))/len(testFeatures))\n",
    "    \n",
    "#### STUDENT END ###\n",
    "\n",
    "P2()"
   ]
  },
  {
   "cell_type": "markdown",
   "metadata": {},
   "source": [
    "(3) Use the default CountVectorizer options and report the f1 score (use metrics.f1_score) for a k nearest neighbors classifier; find the optimal value for k. Also fit a Multinomial Naive Bayes model and find the optimal value for alpha. Finally, fit a logistic regression model and find the optimal value for the regularization strength C using l2 regularization. A few questions:\n",
    "\n",
    "a. Why doesn't nearest neighbors work well for this problem?\n",
    "\n",
    "b. Any ideas why logistic regression doesn't work as well as Naive Bayes?\n",
    "\n",
    "c. Logistic regression estimates a weight vector for each class, which you can access with the coef\\_ attribute. Output the sum of the squared weight values for each class for each setting of the C parameter. Briefly explain the relationship between the sum and the value of C.\n",
    "\n",
    "[4 pts]"
   ]
  },
  {
   "cell_type": "code",
   "execution_count": 5,
   "metadata": {
    "collapsed": false
   },
   "outputs": [
    {
     "name": "stdout",
     "output_type": "stream",
     "text": [
      "\n",
      "knn - search k in [5, 10, 15, 20, 25, 30, 35, 40, 45, 50, 55, 60, 65, 70, 75, 80, 85, 90, 95, 100]\n",
      "knn best k: 95, with score: 0.442478 \n",
      "knn f1 score: 0.453282\n",
      "\n",
      "Multinomial NB - search alpha in [1, 2, 3, 4, 5, 6, 7, 8, 9, 10, 11, 12, 13, 14, 15, 16, 17, 18, 19, 20]\n",
      "Multinomial NB best alpha: 1.000000\n",
      "Multinomial NB f1 score: 0.777732 \n",
      "\n",
      "Logistic regression - search C in [1, 2, 3, 4, 5, 6, 7, 8, 9]\n",
      "Logistic regression best C: 1.000000\n",
      "Logistic regression f1 score: 0.694417\n"
     ]
    }
   ],
   "source": [
    "### STUDENT START ###\n",
    "def P3():\n",
    "    # use regular vectorizer to get features\n",
    "    vectorizer = CountVectorizer()\n",
    "    dtmTrain = vectorizer.fit_transform(train_data)\n",
    "    dtmDev = vectorizer.transform(dev_data)\n",
    "        \n",
    "    # fit knn model\n",
    "    kRange = range(5, 101, 5)\n",
    "    print '\\nknn - search k in ' + str(kRange)    \n",
    "    clf = GridSearchCV(KNeighborsClassifier(), {'n_neighbors':kRange})\n",
    "    clf.fit(dtmTrain, train_labels)    \n",
    "    print 'knn best k: %d' %clf.best_params_['n_neighbors'] + ', with score: %f ' %clf.best_score_ \n",
    "    print 'knn f1 score: %f' %metrics.f1_score(dev_labels, clf.predict(dtmDev))\n",
    "    \n",
    "    # fit multinomial NB\n",
    "    alphaRange = range(1,21,1)\n",
    "    print '\\nMultinomial NB - search alpha in ' + str(alphaRange)\n",
    "    clf = GridSearchCV(MultinomialNB(), {'alpha':alphaRange})\n",
    "    clf.fit(dtmTrain, train_labels)\n",
    "    print 'Multinomial NB best alpha: %f' %clf.best_params_['alpha']     \n",
    "    print 'Multinomial NB f1 score: %f ' %metrics.f1_score(dev_labels, clf.predict(dtmDev))\n",
    "        \n",
    "    # fit logistic regression\n",
    "    cRange = range(1,10,1)\n",
    "    print '\\nLogistic regression - search C in ' + str(cRange)\n",
    "    clf = GridSearchCV(LogisticRegression(penalty = 'l2'), {'C':cRange})\n",
    "    clf.fit(dtmTrain, train_labels)\n",
    "    print 'Logistic regression best C: %f' %clf.best_params_['C']\n",
    "    print 'Logistic regression f1 score: %f' %metrics.f1_score(dev_labels, clf.predict(dtmDev))\n",
    "\n",
    "### STUDENT END ###\n",
    "P3()"
   ]
  },
  {
   "cell_type": "markdown",
   "metadata": {},
   "source": [
    "ANSWER:\n",
    "- a. on one hand the dimension of feature space is high, on the other hand the transformed feature vector is sparse, thus each sample is not very expressive in the feature space. This setup is not good for a distance-based clasifier like knn to perform well.   \n",
    "- b.\n",
    "- c."
   ]
  },
  {
   "cell_type": "markdown",
   "metadata": {},
   "source": [
    "(4) Train a logistic regression model. Find the 5 features with the largest weights for each label -- 20 features in total. Create a table with 20 rows and 4 columns that shows the weight for each of these features for each of the labels. Create the table again with bigram features. Any surprising features in this table?\n",
    "\n",
    "[5 pts]"
   ]
  },
  {
   "cell_type": "code",
   "execution_count": 117,
   "metadata": {
    "collapsed": false
   },
   "outputs": [
    {
     "name": "stdout",
     "output_type": "stream",
     "text": [
      "\n",
      "Features with maximum weights for each label - '*' denotes the weight that associates with the label\n",
      "Note: table may not have 20 rows since duplicate features are not printed\n",
      "\n",
      "unigram word feature:\n",
      "             feature         alt.atheism       comp.graphics           sci.space  talk.religion.misc\n",
      "            graphics           -0.758229          * 1.937574         * -1.336043           -0.762691\n",
      "            deletion          * 1.124913           -0.397898           -0.420370           -0.396143\n",
      "               space         * -1.260505         * -1.316239          * 2.162220         * -1.170792\n",
      "                file           -0.334778          * 1.266527           -0.806556           -0.626452\n",
      "               blood           -0.533113           -0.106794           -0.316025          * 1.054753\n",
      "              launch           -0.471136           -0.465556          * 0.936479           -0.332813\n",
      "           christian           -0.607775           -0.418323           -0.270327          * 1.117240\n",
      "            religion          * 0.953841           -0.617433           -0.792504           -0.064416\n",
      "               bobby          * 0.989646           -0.221094           -0.340742           -0.463481\n",
      "               could            0.227716           -0.130271            0.343696         * -0.930369\n",
      "               image           -0.582917          * 1.346626           -0.825918           -0.469753\n",
      "                nasa           -0.572449           -0.479543          * 1.011373           -0.467702\n",
      "                  3d           -0.358893          * 1.125158           -0.702248           -0.378642\n",
      "          christians           -0.740289           -0.409406           -0.525073          * 1.147800\n",
      "               orbit           -0.413998           -0.671971          * 1.224921           -0.629165\n",
      "            atheists          * 1.031446           -0.096382           -0.320564           -0.835406\n",
      "F1 score: 0.694417\n",
      "\n",
      "(2,2) bigram word feature:\n",
      "             feature         alt.atheism       comp.graphics           sci.space  talk.religion.misc\n",
      "            the moon           -0.404900           -0.576386          * 0.951765           -0.240625\n",
      "         such lunacy           -0.149085           -0.216355           -0.190672          * 0.706576\n",
      "            was just          * 0.677633           -0.192934           -0.197938           -0.301992\n",
      "             look up          * 0.633803           -0.238291           -0.195134           -0.170542\n",
      "          claim that          * 0.771670           -0.257674           -0.352077           -0.200624\n",
      "             the fbi           -0.166696           -0.261230           -0.359250          * 0.653790\n",
      "           the space           -0.314067           -0.645869          * 1.030148           -0.324505\n",
      "           sci space           -0.317712           -0.388538          * 0.738834           -0.274807\n",
      "      compuserve com           -0.132640           -0.211847           -0.200879          * 0.701484\n",
      "       comp graphics           -0.379815          * 1.036969           -0.470821           -0.396643\n",
      "         looking for         * -0.755611          * 1.319621           -0.613713         * -0.699868\n",
      "            is there           -0.428490          * 0.912592           -0.568763           -0.341427\n",
      "         cheers kent          * 0.649142           -0.882359         * -0.821937            0.601477\n",
      "        ignorance is           -0.227882           -0.253148           -0.211357          * 0.745664\n",
      "            and such           -0.242306           -0.399680          * 0.688164           -0.256951\n",
      "           out there           -0.324300          * 0.896356           -0.577914           -0.332884\n",
      "          in advance           -0.544998          * 0.972346           -0.531009           -0.507317\n",
      "F1 score: 0.613249\n",
      "\n",
      "(1,2) bigram word feature:\n",
      "             feature         alt.atheism       comp.graphics           sci.space  talk.religion.misc\n",
      "               could            0.144639           -0.048560            0.238371         * -0.689949\n",
      "            deletion          * 1.179139           -0.395315           -0.389585           -0.379828\n",
      "            atheists          * 0.610630           -0.095426           -0.200727           -0.393190\n",
      "          christians           -0.467659           -0.316114           -0.361562          * 0.845646\n",
      "            religion          * 0.755137           -0.420730           -0.518693           -0.026998\n",
      "              launch           -0.290293           -0.311464          * 0.667400           -0.246824\n",
      "             atheism          * 0.645999           -0.248846           -0.280048           -0.284430\n",
      "                nasa           -0.405890           -0.378577          * 0.786241           -0.324708\n",
      "                file           -0.265328          * 0.945299           -0.613079           -0.462225\n",
      "            graphics           -0.568730          * 1.512440         * -0.995125           -0.560618\n",
      "           christian           -0.398458           -0.276207           -0.208644          * 0.777800\n",
      "              thanks           -0.591890            0.442031            0.202976         * -0.762318\n",
      "               image           -0.391760          * 0.943660           -0.535604           -0.359419\n",
      "               orbit           -0.311449           -0.426809          * 0.827174           -0.350048\n",
      "                  3d           -0.241536          * 0.765537           -0.476955           -0.248158\n",
      "               space         * -0.873007         * -1.071545          * 1.864946         * -0.842573\n",
      "F1 score: 0.699604\n"
     ]
    }
   ],
   "source": [
    "### STUDENT START ###\n",
    "def EvaluateLogisticRegression(dtmTrain, featureNames, dtmDev):\n",
    "    # fit logistic regression model    \n",
    "    lrModel = LogisticRegression(C=1)\n",
    "    lrModel.fit(dtmTrain, train_labels)\n",
    "    nLargest = 5\n",
    "    nLabel = lrModel.coef_.shape[0]\n",
    "    weights = lrModel.coef_\n",
    "    # get index for the largest weight for each label\n",
    "    dtIndex = np.argpartition(np.abs(weights), -nLargest)[:,-nLargest:]    \n",
    "    ind = set(np.reshape(dtIndex, (1, nLargest*nLabel))[0])\n",
    "    # print the table    \n",
    "    row_format =\"{:>20}\" * (nLabel + 1)\n",
    "    print row_format.format(\"feature\", *newsgroups_train.target_names)\n",
    "    for i in ind:\n",
    "        print row_format.format(featureNames[i], \n",
    "                                *[('* ' if i in dtIndex[j] else '') + '%4f' %weights[j,i] for j in range(nLabel)])\n",
    "    # check f1 score\n",
    "    print 'F1 score: %2f' %metrics.f1_score(dev_labels, lrModel.predict(dtmDev))\n",
    "\n",
    "def P4():\n",
    "    print '\\nFeatures with maximum weights for each label - \\'*\\' denotes the weight that associates with the label'\n",
    "    print 'Note: table may not have 20 rows since duplicate features are not printed'\n",
    "    # use regular vectorizer to get features\n",
    "    print '\\nunigram word feature:'\n",
    "    vectorizer = CountVectorizer()\n",
    "    dtmTrain = vectorizer.fit_transform(train_data)\n",
    "    EvaluateLogisticRegression(dtmTrain, vectorizer.get_feature_names(), vectorizer.transform(dev_data))\n",
    "    \n",
    "    # use strict bigram features - no single word\n",
    "    print '\\n(2,2) bigram word feature:'\n",
    "    vectorizer = CountVectorizer(analyzer='word', ngram_range=(2,2))    \n",
    "    dtmTrain = vectorizer.fit_transform(train_data)\n",
    "    EvaluateLogisticRegression(dtmTrain, vectorizer.get_feature_names(), vectorizer.transform(dev_data))\n",
    "    \n",
    "     # use bigram features - allow single word\n",
    "    print '\\n(1,2) bigram word feature:'\n",
    "    vectorizer = CountVectorizer(analyzer='word', ngram_range=(1,2))   \n",
    "    dtmTrain = vectorizer.fit_transform(train_data)\n",
    "    EvaluateLogisticRegression(dtmTrain, vectorizer.get_feature_names(), vectorizer.transform(dev_data))\n",
    "\n",
    "### STUDENT END ###\n",
    "P4()"
   ]
  },
  {
   "cell_type": "markdown",
   "metadata": {},
   "source": [
    "ANSWER:\n",
    "- For unigram feature: most words with maximum weights are closely related to the topic; but for strict bigram: some feature words (e.g. \"is there\", \"and such\", \"was just\", \"looking for\") are not reflecting the topic at all. \n",
    "- This is probably due to those feature words coincidentally appear in the very topic more often than the others, and those features can potentially bring a lot of noise and affect the performance negatively since they are not reflecting the truth - this is validated by the lower f1 score when using strict bigram word feature.\n",
    "- When we allow single word in bigram feature, the best features are all from single word. This indicates that \"bag of words\" model works pretty well with this classifier, since the word context doesn't really help improve the performance.\n"
   ]
  },
  {
   "cell_type": "markdown",
   "metadata": {},
   "source": [
    "(5) Try to improve the logistic regression classifier by passing a custom preprocessor to CountVectorizer. The preprocessing function runs on the raw text, before it is split into words by the tokenizer. Your preprocessor should try to normalize the input in various ways to improve generalization. For example, try lowercasing everything, replacing sequences of numbers with a single token, removing various other non-letter characters, and shortening long words. If you're not already familiar with regular expressions for manipulating strings, see https://docs.python.org/2/library/re.html, and re.sub() in particular. With your new preprocessor, how much did you reduce the size of the dictionary?\n",
    "\n",
    "For reference, I was able to improve dev F1 by 2 points.\n",
    "\n",
    "[4 pts]"
   ]
  },
  {
   "cell_type": "code",
   "execution_count": 7,
   "metadata": {
    "collapsed": false
   },
   "outputs": [],
   "source": [
    "def empty_preprocessor(s):\n",
    "    return s\n",
    "\n",
    "#def better_preprocessor(s):\n",
    "### STUDENT START ###\n",
    "\n",
    "### STUDENT END ###\n",
    "\n",
    "#def P5():\n",
    "### STUDENT START ###\n",
    "\n",
    "    \n",
    "### STUDENT END ###\n",
    "#P5()"
   ]
  },
  {
   "cell_type": "markdown",
   "metadata": {},
   "source": [
    "(6) The idea of regularization is to avoid learning very large weights (which are likely to fit the training data, but not generalize well) by adding a penalty to the total size of the learned weights. That is, logistic regression seeks the set of weights that minimizes errors in the training data AND has a small size. The default regularization, L2, computes this size as the sum of the squared weights (see P3, above). L1 regularization computes this size as the sum of the absolute values of the weights. The result is that whereas L2 regularization makes all the weights relatively small, L1 regularization drives lots of the weights to 0, effectively removing unimportant features.\n",
    "\n",
    "Train a logistic regression model using a \"l1\" penalty. Output the number of learned weights that are not equal to zero. How does this compare to the number of non-zero weights you get with \"l2\"? Now, reduce the size of the vocabulary by keeping only those features that have at least one non-zero weight and retrain a model using \"l2\".\n",
    "\n",
    "Make a plot showing accuracy of the re-trained model vs. the vocabulary size you get when pruning unused features by adjusting the C parameter.\n",
    "\n",
    "Note: The gradient descent code that trains the logistic regression model sometimes has trouble converging with extreme settings of the C parameter. Relax the convergence criteria by setting tol=.01 (the default is .0001).\n",
    "\n",
    "[4 pts]"
   ]
  },
  {
   "cell_type": "code",
   "execution_count": 8,
   "metadata": {
    "collapsed": false
   },
   "outputs": [],
   "source": [
    "def P6():\n",
    "    # Keep this random seed here to make comparison easier.\n",
    "    np.random.seed(0)\n",
    "\n",
    "    ### STUDENT START ###\n",
    "\n",
    "    \n",
    "\n",
    "    ### STUDENT END ###\n",
    "P6()"
   ]
  },
  {
   "cell_type": "markdown",
   "metadata": {},
   "source": [
    "(7) Use the TfidfVectorizer -- how is this different from the CountVectorizer? Train a logistic regression model with C=100.\n",
    "\n",
    "Make predictions on the dev data and show the top 3 documents where the ratio R is largest, where R is:\n",
    "\n",
    "maximum predicted probability / predicted probability of the correct label\n",
    "\n",
    "What kinds of mistakes is the model making? Suggest a way to address one particular issue that you see.\n",
    "\n",
    "[4 pts]"
   ]
  },
  {
   "cell_type": "code",
   "execution_count": 11,
   "metadata": {
    "collapsed": false
   },
   "outputs": [],
   "source": [
    "#def P7():\n",
    "    ### STUDENT START ###\n",
    "\n",
    "\n",
    "\n",
    "    ### STUDENT END ###\n",
    "#P7()"
   ]
  },
  {
   "cell_type": "markdown",
   "metadata": {},
   "source": [
    "ANSWER:"
   ]
  },
  {
   "cell_type": "markdown",
   "metadata": {},
   "source": [
    "(8) EXTRA CREDIT\n",
    "\n",
    "Try implementing one of your ideas based on your error analysis. Use logistic regression as your underlying model.\n",
    "\n",
    "- [1 pt] for a reasonable attempt\n",
    "- [2 pts] for improved performance"
   ]
  }
 ],
 "metadata": {
  "kernelspec": {
   "display_name": "Python 2",
   "language": "python",
   "name": "python2"
  },
  "language_info": {
   "codemirror_mode": {
    "name": "ipython",
    "version": 2
   },
   "file_extension": ".py",
   "mimetype": "text/x-python",
   "name": "python",
   "nbconvert_exporter": "python",
   "pygments_lexer": "ipython2",
   "version": "2.7.9"
  }
 },
 "nbformat": 4,
 "nbformat_minor": 0
}
